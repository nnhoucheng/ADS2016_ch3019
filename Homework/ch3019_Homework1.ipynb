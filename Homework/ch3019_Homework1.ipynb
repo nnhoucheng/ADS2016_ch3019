{
 "cells": [
  {
   "cell_type": "markdown",
   "metadata": {},
   "source": [
    "### Question (1): (10pt)\n",
    "\n",
    "Suppose that the independent variable $x$ has n observations: $(x_1,x_2,...x_n)$ and the dependent variable $y$ has corresponding observations: $(y_1, y_2,...,y_n)$. If the correlation between these two sequences $corr(x,y)=0.01$, which of the following statements are true? Please select all the right answers.\n",
    "\n",
    "(a) There should be no strong relation between $x$ and $y$.\n",
    "\n",
    "(b) There could be some strong linear relationship between $x$ and $y$.\n",
    "\n",
    "(c) If we build a linear regression between $y$ and $x$ as $y=wx$, we could conclude that the OLS estimation for $w$ should be around 0.01.\n",
    "\n",
    "(d) Certain relation between $x$ and $y$ could still exist, but it should be non-linear."
   ]
  },
  {
   "cell_type": "markdown",
   "metadata": {},
   "source": [
    "### Answer(1):\n",
    "\n",
    "(a)(d)"
   ]
  },
  {
   "cell_type": "markdown",
   "metadata": {},
   "source": [
    "### Question (2): (10pt)\n",
    "\n"
   ]
  },
  {
   "cell_type": "markdown",
   "metadata": {},
   "source": [
    "Consider a model\n",
    "\n",
    "$y=x^{b}$ where $b>0$. \n",
    "\n",
    "Now, suppose x doubles (originally $x>0$). How would y change with respect to this change of x? Let us denote new $y$ as $y'$. Please select all the right answers from below. \n",
    "\n",
    "(a) $y'>2y$ if b is bigger than one.\n",
    "\n",
    "(b) $y'<2y$ if b is less than one.\n",
    "\n",
    "(c) $y'=2y$ in any case.\n",
    "\n",
    "(d) $y'$ increases by $(2^b-1)*100\\%$."
   ]
  },
  {
   "cell_type": "markdown",
   "metadata": {
    "collapsed": true
   },
   "source": [
    "### Answer(2):\n",
    "\n",
    "(a)(b)(d)"
   ]
  },
  {
   "cell_type": "code",
   "execution_count": 2,
   "metadata": {
    "collapsed": true
   },
   "outputs": [],
   "source": [
    "import pandas as pd\n",
    "import numpy as np\n",
    "import statsmodels.formula.api as smf\n",
    "import matplotlib.pylab as plt\n",
    "%matplotlib inline"
   ]
  },
  {
   "cell_type": "markdown",
   "metadata": {},
   "source": [
    "### Question (3): (30 pt)\n"
   ]
  },
  {
   "cell_type": "code",
   "execution_count": 3,
   "metadata": {
    "collapsed": true
   },
   "outputs": [],
   "source": [
    "x=[0, 1, 2, 3, 4, 5, 6, 7, 8, 9, 10, 11, 12, 13, 14, 15, 16, 17, 18, 19]"
   ]
  },
  {
   "cell_type": "code",
   "execution_count": 4,
   "metadata": {
    "collapsed": true
   },
   "outputs": [],
   "source": [
    "y=[28.0, 24.0, 37.0, -7.0, 28.0, 71.0, 89.0, 60.0, 100.0, 108.0, 116.0, \n",
    "   110.0, 114.0, 123.0, 124.0, 165.0, 169.0, 211.0, 211.0, 208.0]"
   ]
  },
  {
   "cell_type": "markdown",
   "metadata": {},
   "source": [
    "#### (a) Calculate corr(x,y) without using a build-in function for the correlation coefficient."
   ]
  },
  {
   "cell_type": "code",
   "execution_count": 5,
   "metadata": {
    "collapsed": false
   },
   "outputs": [
    {
     "name": "stdout",
     "output_type": "stream",
     "text": [
      "0.957143492915\n"
     ]
    }
   ],
   "source": [
    "import math\n",
    "sum_x = 0\n",
    "sum_y = 0\n",
    "sum_xy = 0\n",
    "sum_x2 = 0\n",
    "sum_y2= 0\n",
    "n = len(x)\n",
    "for i in range(n):\n",
    "    sum_x += x[i]\n",
    "    sum_y += y[i]\n",
    "    sum_xy += x[i] * y[i]\n",
    "    sum_x2 += x[i] * x[i]\n",
    "    sum_y2 += y[i] * y[i]\n",
    "\n",
    "corr_xy = (n * sum_xy - sum_x * sum_y) / math.sqrt((n * sum_x2 - sum_x * sum_x) * (n * sum_y2 - sum_y * sum_y))\n",
    "\n",
    "print corr_xy"
   ]
  },
  {
   "cell_type": "markdown",
   "metadata": {},
   "source": [
    "#### (b) Estimate linear model $y=w_1*x+w_0$ using OLS formulas and without using build-in functions for the linear regression. What is  $w_1$ and $w_0$? What is $R^2$?"
   ]
  },
  {
   "cell_type": "code",
   "execution_count": 8,
   "metadata": {
    "collapsed": false
   },
   "outputs": [
    {
     "name": "stdout",
     "output_type": "stream",
     "text": [
      "w1 = 10.546617\n",
      "w0 = 4.257143\n"
     ]
    }
   ],
   "source": [
    "w1 = (sum_xy - sum_x * sum_y / n) / (sum_x2 - sum_x * sum_x / n)\n",
    "print ('w1 = %f' %w1)\n",
    "w0 = (sum_y - w1 * sum_x) / n\n",
    "print ('w0 = %f' %w0)"
   ]
  },
  {
   "cell_type": "markdown",
   "metadata": {},
   "source": [
    "#### (c) Use regression function to double check your answer making sure that your calculation is correct. "
   ]
  },
  {
   "cell_type": "code",
   "execution_count": 11,
   "metadata": {
    "collapsed": false
   },
   "outputs": [
    {
     "data": {
      "text/html": [
       "<div>\n",
       "<table border=\"1\" class=\"dataframe\">\n",
       "  <thead>\n",
       "    <tr style=\"text-align: right;\">\n",
       "      <th></th>\n",
       "      <th>0</th>\n",
       "      <th>1</th>\n",
       "    </tr>\n",
       "  </thead>\n",
       "  <tbody>\n",
       "    <tr>\n",
       "      <th>0</th>\n",
       "      <td>0.0</td>\n",
       "      <td>28.0</td>\n",
       "    </tr>\n",
       "    <tr>\n",
       "      <th>1</th>\n",
       "      <td>1.0</td>\n",
       "      <td>24.0</td>\n",
       "    </tr>\n",
       "    <tr>\n",
       "      <th>2</th>\n",
       "      <td>2.0</td>\n",
       "      <td>37.0</td>\n",
       "    </tr>\n",
       "    <tr>\n",
       "      <th>3</th>\n",
       "      <td>3.0</td>\n",
       "      <td>-7.0</td>\n",
       "    </tr>\n",
       "    <tr>\n",
       "      <th>4</th>\n",
       "      <td>4.0</td>\n",
       "      <td>28.0</td>\n",
       "    </tr>\n",
       "  </tbody>\n",
       "</table>\n",
       "</div>"
      ],
      "text/plain": [
       "     0     1\n",
       "0  0.0  28.0\n",
       "1  1.0  24.0\n",
       "2  2.0  37.0\n",
       "3  3.0  -7.0\n",
       "4  4.0  28.0"
      ]
     },
     "execution_count": 11,
     "metadata": {},
     "output_type": "execute_result"
    }
   ],
   "source": [
    "data = pd.DataFrame([list(x),list(y)]).T\n",
    "data.colums = [\"x\", \"y\"]\n",
    "data.head()"
   ]
  },
  {
   "cell_type": "code",
   "execution_count": 14,
   "metadata": {
    "collapsed": false
   },
   "outputs": [
    {
     "data": {
      "text/html": [
       "<div>\n",
       "<table border=\"1\" class=\"dataframe\">\n",
       "  <thead>\n",
       "    <tr style=\"text-align: right;\">\n",
       "      <th></th>\n",
       "      <th>0</th>\n",
       "      <th>1</th>\n",
       "    </tr>\n",
       "  </thead>\n",
       "  <tbody>\n",
       "    <tr>\n",
       "      <th>0</th>\n",
       "      <td>1.000000</td>\n",
       "      <td>0.957143</td>\n",
       "    </tr>\n",
       "    <tr>\n",
       "      <th>1</th>\n",
       "      <td>0.957143</td>\n",
       "      <td>1.000000</td>\n",
       "    </tr>\n",
       "  </tbody>\n",
       "</table>\n",
       "</div>"
      ],
      "text/plain": [
       "          0         1\n",
       "0  1.000000  0.957143\n",
       "1  0.957143  1.000000"
      ]
     },
     "execution_count": 14,
     "metadata": {},
     "output_type": "execute_result"
    }
   ],
   "source": [
    "data.corr()"
   ]
  },
  {
   "cell_type": "code",
   "execution_count": 12,
   "metadata": {
    "collapsed": true
   },
   "outputs": [],
   "source": [
    "lm = smf.ols(formula = 'y ~ x', data = data).fit()"
   ]
  },
  {
   "cell_type": "code",
   "execution_count": 13,
   "metadata": {
    "collapsed": false
   },
   "outputs": [
    {
     "name": "stdout",
     "output_type": "stream",
     "text": [
      "Intercept     4.257143\n",
      "x            10.546617\n",
      "dtype: float64\n"
     ]
    }
   ],
   "source": [
    "print lm.params"
   ]
  },
  {
   "cell_type": "markdown",
   "metadata": {},
   "source": [
    "### Question (4): (30pt) "
   ]
  },
  {
   "cell_type": "markdown",
   "metadata": {},
   "source": [
    "For the data below estimate a model: AssessTot = w* LotArea (with and without intercept)\n",
    "\n",
    "LotArea: Total area of the tax lot\n",
    "\n",
    "AssessTot: The actual assessed total value of Final Year 2015"
   ]
  },
  {
   "cell_type": "code",
   "execution_count": 15,
   "metadata": {
    "collapsed": true
   },
   "outputs": [],
   "source": [
    "data_4=pd.read_csv(\"https://serv.cusp.nyu.edu/~lw1474/ADS_Data/Session02/Housing_Pluto_Session2.csv\")"
   ]
  },
  {
   "cell_type": "code",
   "execution_count": 16,
   "metadata": {
    "collapsed": false
   },
   "outputs": [
    {
     "data": {
      "text/html": [
       "<div>\n",
       "<table border=\"1\" class=\"dataframe\">\n",
       "  <thead>\n",
       "    <tr style=\"text-align: right;\">\n",
       "      <th></th>\n",
       "      <th>ZipCode</th>\n",
       "      <th>LotArea</th>\n",
       "      <th>AssessTot</th>\n",
       "    </tr>\n",
       "  </thead>\n",
       "  <tbody>\n",
       "    <tr>\n",
       "      <th>0</th>\n",
       "      <td>11201.0</td>\n",
       "      <td>151930</td>\n",
       "      <td>1164645</td>\n",
       "    </tr>\n",
       "    <tr>\n",
       "      <th>1</th>\n",
       "      <td>11201.0</td>\n",
       "      <td>9620</td>\n",
       "      <td>5864850</td>\n",
       "    </tr>\n",
       "    <tr>\n",
       "      <th>2</th>\n",
       "      <td>11201.0</td>\n",
       "      <td>19682</td>\n",
       "      <td>12019950</td>\n",
       "    </tr>\n",
       "    <tr>\n",
       "      <th>3</th>\n",
       "      <td>NaN</td>\n",
       "      <td>0</td>\n",
       "      <td>0</td>\n",
       "    </tr>\n",
       "    <tr>\n",
       "      <th>4</th>\n",
       "      <td>11201.0</td>\n",
       "      <td>387060</td>\n",
       "      <td>0</td>\n",
       "    </tr>\n",
       "  </tbody>\n",
       "</table>\n",
       "</div>"
      ],
      "text/plain": [
       "   ZipCode  LotArea  AssessTot\n",
       "0  11201.0   151930    1164645\n",
       "1  11201.0     9620    5864850\n",
       "2  11201.0    19682   12019950\n",
       "3      NaN        0          0\n",
       "4  11201.0   387060          0"
      ]
     },
     "execution_count": 16,
     "metadata": {},
     "output_type": "execute_result"
    }
   ],
   "source": [
    "data_4.head()"
   ]
  },
  {
   "cell_type": "markdown",
   "metadata": {},
   "source": [
    "#### (a). As we see, this data set is not clean.  Drop all the rows which contain \"NaN\" and 0 terms."
   ]
  },
  {
   "cell_type": "code",
   "execution_count": 49,
   "metadata": {
    "collapsed": false
   },
   "outputs": [
    {
     "data": {
      "text/html": [
       "<div>\n",
       "<table border=\"1\" class=\"dataframe\">\n",
       "  <thead>\n",
       "    <tr style=\"text-align: right;\">\n",
       "      <th></th>\n",
       "      <th>ZipCode</th>\n",
       "      <th>LotArea</th>\n",
       "      <th>AssessTot</th>\n",
       "    </tr>\n",
       "  </thead>\n",
       "  <tbody>\n",
       "    <tr>\n",
       "      <th>0</th>\n",
       "      <td>11201</td>\n",
       "      <td>151930</td>\n",
       "      <td>1164645</td>\n",
       "    </tr>\n",
       "    <tr>\n",
       "      <th>1</th>\n",
       "      <td>11201</td>\n",
       "      <td>9620</td>\n",
       "      <td>5864850</td>\n",
       "    </tr>\n",
       "    <tr>\n",
       "      <th>2</th>\n",
       "      <td>11201</td>\n",
       "      <td>19682</td>\n",
       "      <td>12019950</td>\n",
       "    </tr>\n",
       "    <tr>\n",
       "      <th>5</th>\n",
       "      <td>11201</td>\n",
       "      <td>6384</td>\n",
       "      <td>21150</td>\n",
       "    </tr>\n",
       "    <tr>\n",
       "      <th>10</th>\n",
       "      <td>11201</td>\n",
       "      <td>66889</td>\n",
       "      <td>11700</td>\n",
       "    </tr>\n",
       "  </tbody>\n",
       "</table>\n",
       "</div>"
      ],
      "text/plain": [
       "    ZipCode  LotArea  AssessTot\n",
       "0     11201   151930    1164645\n",
       "1     11201     9620    5864850\n",
       "2     11201    19682   12019950\n",
       "5     11201     6384      21150\n",
       "10    11201    66889      11700"
      ]
     },
     "execution_count": 49,
     "metadata": {},
     "output_type": "execute_result"
    }
   ],
   "source": [
    "data_4.dropna(axis = 0, how = 'any', inplace = True)\n",
    "data_4.drop(data_4.index[(data_4 == 0).any(axis = 1)], inplace = True)\n",
    "data_4['ZipCode'] = data_4['ZipCode'].astype(int)\n",
    "data_4.head()"
   ]
  },
  {
   "cell_type": "markdown",
   "metadata": {},
   "source": [
    "#### (b). Visualize the data set."
   ]
  },
  {
   "cell_type": "code",
   "execution_count": 55,
   "metadata": {
    "collapsed": false
   },
   "outputs": [
    {
     "data": {
      "image/png": "[encoded data removed]",
      "text/plain": [
       "<matplotlib.figure.Figure at 0x11a829350>"
      ]
     },
     "metadata": {},
     "output_type": "display_data"
    }
   ],
   "source": [
    "plt.figure(figsize=(8,8))\n",
    "plt.scatter(x = data_4.LotArea, y = data_4.AssessTot)\n",
    "\n",
    "plt.xlabel('LotArea')\n",
    "plt.ylabel('AssessTot')\n",
    "plt.show()"
   ]
  },
  {
   "cell_type": "markdown",
   "metadata": {},
   "source": [
    "#### (c).  Build a model : AssessTot=$w_1$*LotArea + $w_2$. Get $w_1$, $w_2$ and $R^2$.  Plot your results together with observations. "
   ]
  },
  {
   "cell_type": "code",
   "execution_count": 60,
   "metadata": {
    "collapsed": false
   },
   "outputs": [
    {
     "name": "stdout",
     "output_type": "stream",
     "text": [
      "R Square = 0.384460\n",
      "Intercept    76944.297838\n",
      "LotArea         21.160374\n",
      "dtype: float64\n"
     ]
    }
   ],
   "source": [
    "lm2 = smf.ols(formula = 'AssessTot ~ LotArea', data = data_4).fit()\n",
    "print (\"R Square = %f\" %lm2.rsquared)\n",
    "print (lm2.params)"
   ]
  },
  {
   "cell_type": "code",
   "execution_count": 63,
   "metadata": {
    "collapsed": false
   },
   "outputs": [
    {
     "data": {
      "text/html": [
       "<div>\n",
       "<table border=\"1\" class=\"dataframe\">\n",
       "  <thead>\n",
       "    <tr style=\"text-align: right;\">\n",
       "      <th></th>\n",
       "      <th>ZipCode</th>\n",
       "      <th>LotArea</th>\n",
       "      <th>AssessTot</th>\n",
       "      <th>pred</th>\n",
       "      <th>err</th>\n",
       "    </tr>\n",
       "  </thead>\n",
       "  <tbody>\n",
       "    <tr>\n",
       "      <th>0</th>\n",
       "      <td>11201</td>\n",
       "      <td>151930</td>\n",
       "      <td>1164645</td>\n",
       "      <td>3.291840e+06</td>\n",
       "      <td>-2.127195e+06</td>\n",
       "    </tr>\n",
       "    <tr>\n",
       "      <th>1</th>\n",
       "      <td>11201</td>\n",
       "      <td>9620</td>\n",
       "      <td>5864850</td>\n",
       "      <td>2.805071e+05</td>\n",
       "      <td>5.584343e+06</td>\n",
       "    </tr>\n",
       "    <tr>\n",
       "      <th>2</th>\n",
       "      <td>11201</td>\n",
       "      <td>19682</td>\n",
       "      <td>12019950</td>\n",
       "      <td>4.934228e+05</td>\n",
       "      <td>1.152653e+07</td>\n",
       "    </tr>\n",
       "    <tr>\n",
       "      <th>5</th>\n",
       "      <td>11201</td>\n",
       "      <td>6384</td>\n",
       "      <td>21150</td>\n",
       "      <td>2.120321e+05</td>\n",
       "      <td>-1.908821e+05</td>\n",
       "    </tr>\n",
       "    <tr>\n",
       "      <th>10</th>\n",
       "      <td>11201</td>\n",
       "      <td>66889</td>\n",
       "      <td>11700</td>\n",
       "      <td>1.492341e+06</td>\n",
       "      <td>-1.480641e+06</td>\n",
       "    </tr>\n",
       "  </tbody>\n",
       "</table>\n",
       "</div>"
      ],
      "text/plain": [
       "    ZipCode  LotArea  AssessTot          pred           err\n",
       "0     11201   151930    1164645  3.291840e+06 -2.127195e+06\n",
       "1     11201     9620    5864850  2.805071e+05  5.584343e+06\n",
       "2     11201    19682   12019950  4.934228e+05  1.152653e+07\n",
       "5     11201     6384      21150  2.120321e+05 -1.908821e+05\n",
       "10    11201    66889      11700  1.492341e+06 -1.480641e+06"
      ]
     },
     "execution_count": 63,
     "metadata": {},
     "output_type": "execute_result"
    }
   ],
   "source": [
    "data_4['pred'] = lm2.params['LotArea'] * data_4['LotArea'] + lm2.params['Intercept']\n",
    "data_4['err'] = data_4['AssessTot'] - data_4['pred']\n",
    "data_4.head()"
   ]
  },
  {
   "cell_type": "code",
   "execution_count": 67,
   "metadata": {
    "collapsed": false
   },
   "outputs": [
    {
     "data": {
      "image/png": "[encoded data removed]",
      "text/plain": [
       "<matplotlib.figure.Figure at 0x11b613a50>"
      ]
     },
     "metadata": {},
     "output_type": "display_data"
    }
   ],
   "source": [
    "plt.figure(figsize=(8,8))\n",
    "plt.scatter(x = data_4.LotArea, y = data_4.AssessTot)\n",
    "plt.plot(data_4.LotArea, data_4.pred, c = \"r\")\n",
    "\n",
    "plt.xlabel('LotArea')\n",
    "plt.ylabel('AssessTot')\n",
    "plt.show()"
   ]
  },
  {
   "cell_type": "markdown",
   "metadata": {},
   "source": [
    "#### (d) Repeat (c) without intercept, i.e. with $w_2=0$."
   ]
  },
  {
   "cell_type": "code",
   "execution_count": 424,
   "metadata": {
    "collapsed": false
   },
   "outputs": [
    {
     "name": "stdout",
     "output_type": "stream",
     "text": [
      "R Square = 0.384915\n",
      "LotArea    21.174079\n",
      "dtype: float64\n"
     ]
    }
   ],
   "source": [
    "lm2_2 = smf.ols(formula = 'AssessTot ~ LotArea + 0', data = data_4).fit()\n",
    "print (\"R Square = %f\" %lm2_2.rsquared)\n",
    "print (lm2_2.params)"
   ]
  },
  {
   "cell_type": "code",
   "execution_count": 425,
   "metadata": {
    "collapsed": false
   },
   "outputs": [
    {
     "data": {
      "text/html": [
       "<div>\n",
       "<table border=\"1\" class=\"dataframe\">\n",
       "  <thead>\n",
       "    <tr style=\"text-align: right;\">\n",
       "      <th></th>\n",
       "      <th>ZipCode</th>\n",
       "      <th>LotArea</th>\n",
       "      <th>AssessTot</th>\n",
       "      <th>pred</th>\n",
       "      <th>err</th>\n",
       "      <th>pred_0</th>\n",
       "      <th>err_0</th>\n",
       "    </tr>\n",
       "  </thead>\n",
       "  <tbody>\n",
       "    <tr>\n",
       "      <th>0</th>\n",
       "      <td>11201</td>\n",
       "      <td>151930</td>\n",
       "      <td>1164645</td>\n",
       "      <td>3.291840e+06</td>\n",
       "      <td>-2.127195e+06</td>\n",
       "      <td>3.216978e+06</td>\n",
       "      <td>-2.052333e+06</td>\n",
       "    </tr>\n",
       "    <tr>\n",
       "      <th>1</th>\n",
       "      <td>11201</td>\n",
       "      <td>9620</td>\n",
       "      <td>5864850</td>\n",
       "      <td>2.805071e+05</td>\n",
       "      <td>5.584343e+06</td>\n",
       "      <td>2.036946e+05</td>\n",
       "      <td>5.661155e+06</td>\n",
       "    </tr>\n",
       "    <tr>\n",
       "      <th>2</th>\n",
       "      <td>11201</td>\n",
       "      <td>19682</td>\n",
       "      <td>12019950</td>\n",
       "      <td>4.934228e+05</td>\n",
       "      <td>1.152653e+07</td>\n",
       "      <td>4.167482e+05</td>\n",
       "      <td>1.160320e+07</td>\n",
       "    </tr>\n",
       "    <tr>\n",
       "      <th>5</th>\n",
       "      <td>11201</td>\n",
       "      <td>6384</td>\n",
       "      <td>21150</td>\n",
       "      <td>2.120321e+05</td>\n",
       "      <td>-1.908821e+05</td>\n",
       "      <td>1.351753e+05</td>\n",
       "      <td>-1.140253e+05</td>\n",
       "    </tr>\n",
       "    <tr>\n",
       "      <th>10</th>\n",
       "      <td>11201</td>\n",
       "      <td>66889</td>\n",
       "      <td>11700</td>\n",
       "      <td>1.492341e+06</td>\n",
       "      <td>-1.480641e+06</td>\n",
       "      <td>1.416313e+06</td>\n",
       "      <td>-1.404613e+06</td>\n",
       "    </tr>\n",
       "  </tbody>\n",
       "</table>\n",
       "</div>"
      ],
      "text/plain": [
       "    ZipCode  LotArea  AssessTot          pred           err        pred_0  \\\n",
       "0     11201   151930    1164645  3.291840e+06 -2.127195e+06  3.216978e+06   \n",
       "1     11201     9620    5864850  2.805071e+05  5.584343e+06  2.036946e+05   \n",
       "2     11201    19682   12019950  4.934228e+05  1.152653e+07  4.167482e+05   \n",
       "5     11201     6384      21150  2.120321e+05 -1.908821e+05  1.351753e+05   \n",
       "10    11201    66889      11700  1.492341e+06 -1.480641e+06  1.416313e+06   \n",
       "\n",
       "           err_0  \n",
       "0  -2.052333e+06  \n",
       "1   5.661155e+06  \n",
       "2   1.160320e+07  \n",
       "5  -1.140253e+05  \n",
       "10 -1.404613e+06  "
      ]
     },
     "execution_count": 425,
     "metadata": {},
     "output_type": "execute_result"
    }
   ],
   "source": [
    "data_4['pred_0'] = lm2_2.params['LotArea'] * data_4['LotArea']\n",
    "data_4['err_0'] = data_4['AssessTot'] - data_4['pred_0']\n",
    "data_4.head()"
   ]
  },
  {
   "cell_type": "code",
   "execution_count": 426,
   "metadata": {
    "collapsed": false
   },
   "outputs": [
    {
     "data": {
      "image/png": "[encoded data removed]",
      "text/plain": [
       "<matplotlib.figure.Figure at 0x1205483d0>"
      ]
     },
     "metadata": {},
     "output_type": "display_data"
    }
   ],
   "source": [
    "plt.figure(figsize=(8,8))\n",
    "plt.scatter(x = data_4.LotArea, y = data_4.AssessTot)\n",
    "plt.plot(data_4.LotArea, data_4.pred, \"r\")\n",
    "plt.plot(data_4.LotArea, data_4.pred_0, \"b\", alpha = 0.5)\n",
    "\n",
    "plt.xlabel('LotArea')\n",
    "plt.ylabel('AssessTot')\n",
    "plt.show()"
   ]
  },
  {
   "cell_type": "markdown",
   "metadata": {
    "collapsed": true
   },
   "source": [
    "### Question (5): (20pt)\n",
    "\n",
    "For the same data as above try the model: log_AssessTot=$w_1$*log_LotArea + $w_2$. Get $w_1$, $w_2$ and $R^2$.  And plot your results together with observations. Explain the result - what does the estimated \"$w_1$\" means to you?"
   ]
  },
  {
   "cell_type": "code",
   "execution_count": 73,
   "metadata": {
    "collapsed": false
   },
   "outputs": [
    {
     "data": {
      "text/html": [
       "<div>\n",
       "<table border=\"1\" class=\"dataframe\">\n",
       "  <thead>\n",
       "    <tr style=\"text-align: right;\">\n",
       "      <th></th>\n",
       "      <th>LotArea</th>\n",
       "      <th>AssessTot</th>\n",
       "      <th>log_LotArea</th>\n",
       "      <th>log_AssessTot</th>\n",
       "    </tr>\n",
       "  </thead>\n",
       "  <tbody>\n",
       "    <tr>\n",
       "      <th>0</th>\n",
       "      <td>151930</td>\n",
       "      <td>1164645</td>\n",
       "      <td>11.931175</td>\n",
       "      <td>13.967927</td>\n",
       "    </tr>\n",
       "    <tr>\n",
       "      <th>1</th>\n",
       "      <td>9620</td>\n",
       "      <td>5864850</td>\n",
       "      <td>9.171600</td>\n",
       "      <td>15.584487</td>\n",
       "    </tr>\n",
       "    <tr>\n",
       "      <th>2</th>\n",
       "      <td>19682</td>\n",
       "      <td>12019950</td>\n",
       "      <td>9.887460</td>\n",
       "      <td>16.302078</td>\n",
       "    </tr>\n",
       "    <tr>\n",
       "      <th>5</th>\n",
       "      <td>6384</td>\n",
       "      <td>21150</td>\n",
       "      <td>8.761550</td>\n",
       "      <td>9.959395</td>\n",
       "    </tr>\n",
       "    <tr>\n",
       "      <th>10</th>\n",
       "      <td>66889</td>\n",
       "      <td>11700</td>\n",
       "      <td>11.110790</td>\n",
       "      <td>9.367344</td>\n",
       "    </tr>\n",
       "  </tbody>\n",
       "</table>\n",
       "</div>"
      ],
      "text/plain": [
       "    LotArea  AssessTot  log_LotArea  log_AssessTot\n",
       "0    151930    1164645    11.931175      13.967927\n",
       "1      9620    5864850     9.171600      15.584487\n",
       "2     19682   12019950     9.887460      16.302078\n",
       "5      6384      21150     8.761550       9.959395\n",
       "10    66889      11700    11.110790       9.367344"
      ]
     },
     "execution_count": 73,
     "metadata": {},
     "output_type": "execute_result"
    }
   ],
   "source": [
    "data_5 = data_4.loc[:, [\"LotArea\", \"AssessTot\"]]\n",
    "data_5[\"log_LotArea\"] = np.log(data_5[\"LotArea\"])\n",
    "data_5[\"log_AssessTot\"] = np.log(data_5[\"AssessTot\"])\n",
    "data_5.head()"
   ]
  },
  {
   "cell_type": "code",
   "execution_count": 74,
   "metadata": {
    "collapsed": false
   },
   "outputs": [
    {
     "name": "stdout",
     "output_type": "stream",
     "text": [
      "R Square = 0.490744\n",
      "Intercept      0.207382\n",
      "log_LotArea    1.325149\n",
      "dtype: float64\n"
     ]
    }
   ],
   "source": [
    "lm3 = smf.ols(formula = 'log_AssessTot ~ log_LotArea', data = data_5).fit()\n",
    "print (\"R Square = %f\" %lm3.rsquared)\n",
    "print (lm3.params)"
   ]
  },
  {
   "cell_type": "code",
   "execution_count": 75,
   "metadata": {
    "collapsed": false
   },
   "outputs": [
    {
     "data": {
      "text/html": [
       "<div>\n",
       "<table border=\"1\" class=\"dataframe\">\n",
       "  <thead>\n",
       "    <tr style=\"text-align: right;\">\n",
       "      <th></th>\n",
       "      <th>LotArea</th>\n",
       "      <th>AssessTot</th>\n",
       "      <th>log_LotArea</th>\n",
       "      <th>log_AssessTot</th>\n",
       "      <th>pred</th>\n",
       "      <th>err</th>\n",
       "    </tr>\n",
       "  </thead>\n",
       "  <tbody>\n",
       "    <tr>\n",
       "      <th>0</th>\n",
       "      <td>151930</td>\n",
       "      <td>1164645</td>\n",
       "      <td>11.931175</td>\n",
       "      <td>13.967927</td>\n",
       "      <td>16.017968</td>\n",
       "      <td>1.164629e+06</td>\n",
       "    </tr>\n",
       "    <tr>\n",
       "      <th>1</th>\n",
       "      <td>9620</td>\n",
       "      <td>5864850</td>\n",
       "      <td>9.171600</td>\n",
       "      <td>15.584487</td>\n",
       "      <td>12.361119</td>\n",
       "      <td>5.864838e+06</td>\n",
       "    </tr>\n",
       "    <tr>\n",
       "      <th>2</th>\n",
       "      <td>19682</td>\n",
       "      <td>12019950</td>\n",
       "      <td>9.887460</td>\n",
       "      <td>16.302078</td>\n",
       "      <td>13.309740</td>\n",
       "      <td>1.201994e+07</td>\n",
       "    </tr>\n",
       "    <tr>\n",
       "      <th>5</th>\n",
       "      <td>6384</td>\n",
       "      <td>21150</td>\n",
       "      <td>8.761550</td>\n",
       "      <td>9.959395</td>\n",
       "      <td>11.817742</td>\n",
       "      <td>2.113818e+04</td>\n",
       "    </tr>\n",
       "    <tr>\n",
       "      <th>10</th>\n",
       "      <td>66889</td>\n",
       "      <td>11700</td>\n",
       "      <td>11.110790</td>\n",
       "      <td>9.367344</td>\n",
       "      <td>14.930835</td>\n",
       "      <td>1.168507e+04</td>\n",
       "    </tr>\n",
       "  </tbody>\n",
       "</table>\n",
       "</div>"
      ],
      "text/plain": [
       "    LotArea  AssessTot  log_LotArea  log_AssessTot       pred           err\n",
       "0    151930    1164645    11.931175      13.967927  16.017968  1.164629e+06\n",
       "1      9620    5864850     9.171600      15.584487  12.361119  5.864838e+06\n",
       "2     19682   12019950     9.887460      16.302078  13.309740  1.201994e+07\n",
       "5      6384      21150     8.761550       9.959395  11.817742  2.113818e+04\n",
       "10    66889      11700    11.110790       9.367344  14.930835  1.168507e+04"
      ]
     },
     "execution_count": 75,
     "metadata": {},
     "output_type": "execute_result"
    }
   ],
   "source": [
    "data_5['pred'] = lm3.params['log_LotArea'] * data_5['log_LotArea'] + lm3.params['Intercept']\n",
    "data_5['err'] = data_5['AssessTot'] - data_5['pred']\n",
    "data_5.head()"
   ]
  },
  {
   "cell_type": "code",
   "execution_count": 76,
   "metadata": {
    "collapsed": false
   },
   "outputs": [
    {
     "data": {
      "image/png": "[encoded data removed]",
      "text/plain": [
       "<matplotlib.figure.Figure at 0x11a549e50>"
      ]
     },
     "metadata": {},
     "output_type": "display_data"
    }
   ],
   "source": [
    "plt.figure(figsize=(8,8))\n",
    "plt.scatter(x = data_5.log_LotArea, y = data_5.log_AssessTot)\n",
    "plt.plot(data_5.log_LotArea, data_5.pred, c = \"r\")\n",
    "\n",
    "plt.xlabel('log_LotArea')\n",
    "plt.ylabel('log_AssessTot')\n",
    "plt.show()"
   ]
  },
  {
   "cell_type": "markdown",
   "metadata": {},
   "source": [
    "### what does the estimated \"$w_1$\" means?\n",
    "log_AssessTot=$w_1 *$ log_LotArea  $+w_2$\n",
    "\n",
    "It means:\n",
    "\n",
    "AssessTot = (log_LotArea) $^{w_1} * e^{w_2}$"
   ]
  },
  {
   "cell_type": "markdown",
   "metadata": {},
   "source": [
    "### *Additional extra-credit question (Using the housing price data set from question (4)) (40 pt to be added to the cumulative homework score up to the maximum of 100%(for whole semester))"
   ]
  },
  {
   "cell_type": "markdown",
   "metadata": {},
   "source": [
    "#### (a) How many different zip codes are in the data? report the number of observations for each zipcode.\n",
    "\n",
    "#### (b) For each zip code having over 1000 observations, report the average assessed total value of houses.\n",
    "\n",
    "#### (c) For each zip code estimate the log scale model 'log_AssessTot ~ log_LotArea' and report the slope coefficient (scaling exponent).\n",
    "\n",
    "#### (d) Visualize the spatial distribution of the values from (b) and (c). Report the top 5 zip code with highest scaling exponents."
   ]
  },
  {
   "cell_type": "code",
   "execution_count": 78,
   "metadata": {
    "collapsed": false
   },
   "outputs": [
    {
     "data": {
      "text/html": [
       "<div>\n",
       "<table border=\"1\" class=\"dataframe\">\n",
       "  <thead>\n",
       "    <tr style=\"text-align: right;\">\n",
       "      <th></th>\n",
       "      <th>ZipCode</th>\n",
       "      <th>LotArea</th>\n",
       "      <th>AssessTot</th>\n",
       "    </tr>\n",
       "  </thead>\n",
       "  <tbody>\n",
       "    <tr>\n",
       "      <th>0</th>\n",
       "      <td>11201</td>\n",
       "      <td>151930</td>\n",
       "      <td>1164645</td>\n",
       "    </tr>\n",
       "    <tr>\n",
       "      <th>1</th>\n",
       "      <td>11201</td>\n",
       "      <td>9620</td>\n",
       "      <td>5864850</td>\n",
       "    </tr>\n",
       "    <tr>\n",
       "      <th>2</th>\n",
       "      <td>11201</td>\n",
       "      <td>19682</td>\n",
       "      <td>12019950</td>\n",
       "    </tr>\n",
       "    <tr>\n",
       "      <th>5</th>\n",
       "      <td>11201</td>\n",
       "      <td>6384</td>\n",
       "      <td>21150</td>\n",
       "    </tr>\n",
       "    <tr>\n",
       "      <th>10</th>\n",
       "      <td>11201</td>\n",
       "      <td>66889</td>\n",
       "      <td>11700</td>\n",
       "    </tr>\n",
       "  </tbody>\n",
       "</table>\n",
       "</div>"
      ],
      "text/plain": [
       "    ZipCode  LotArea  AssessTot\n",
       "0     11201   151930    1164645\n",
       "1     11201     9620    5864850\n",
       "2     11201    19682   12019950\n",
       "5     11201     6384      21150\n",
       "10    11201    66889      11700"
      ]
     },
     "execution_count": 78,
     "metadata": {},
     "output_type": "execute_result"
    }
   ],
   "source": [
    "data_a = pd.read_csv(\"https://serv.cusp.nyu.edu/~lw1474/ADS_Data/Session02/Housing_Pluto_Session2.csv\")\n",
    "data_a.dropna(axis = 0, how = 'any', inplace = True)\n",
    "data_a.drop(data_a.index[(data_a == 0).any(axis = 1)], inplace = True)\n",
    "data_a['ZipCode'] = data_a['ZipCode'].astype(int)\n",
    "data_a.head()"
   ]
  },
  {
   "cell_type": "markdown",
   "metadata": {
    "collapsed": true
   },
   "source": [
    "### (a)"
   ]
  },
  {
   "cell_type": "code",
   "execution_count": 167,
   "metadata": {
    "collapsed": false
   },
   "outputs": [
    {
     "data": {
      "text/html": [
       "<div>\n",
       "<table border=\"1\" class=\"dataframe\">\n",
       "  <thead>\n",
       "    <tr style=\"text-align: right;\">\n",
       "      <th></th>\n",
       "      <th>number of observations</th>\n",
       "    </tr>\n",
       "    <tr>\n",
       "      <th>ZipCode</th>\n",
       "      <th></th>\n",
       "    </tr>\n",
       "  </thead>\n",
       "  <tbody>\n",
       "    <tr>\n",
       "      <th>11201</th>\n",
       "      <td>3361</td>\n",
       "    </tr>\n",
       "    <tr>\n",
       "      <th>11203</th>\n",
       "      <td>11011</td>\n",
       "    </tr>\n",
       "    <tr>\n",
       "      <th>11204</th>\n",
       "      <td>9946</td>\n",
       "    </tr>\n",
       "    <tr>\n",
       "      <th>11205</th>\n",
       "      <td>3196</td>\n",
       "    </tr>\n",
       "    <tr>\n",
       "      <th>11206</th>\n",
       "      <td>4665</td>\n",
       "    </tr>\n",
       "  </tbody>\n",
       "</table>\n",
       "</div>"
      ],
      "text/plain": [
       "         number of observations\n",
       "ZipCode                        \n",
       "11201                      3361\n",
       "11203                     11011\n",
       "11204                      9946\n",
       "11205                      3196\n",
       "11206                      4665"
      ]
     },
     "execution_count": 167,
     "metadata": {},
     "output_type": "execute_result"
    }
   ],
   "source": [
    "group_a = data_a.groupby(data_a[\"ZipCode\"])\n",
    "count_a = pd.DataFrame(group_a.size())\n",
    "count_a.columns = ['number of observations']\n",
    "count_a.head()"
   ]
  },
  {
   "cell_type": "markdown",
   "metadata": {},
   "source": [
    "### (b)"
   ]
  },
  {
   "cell_type": "code",
   "execution_count": 384,
   "metadata": {
    "collapsed": false
   },
   "outputs": [
    {
     "data": {
      "text/html": [
       "<div>\n",
       "<table border=\"1\" class=\"dataframe\">\n",
       "  <thead>\n",
       "    <tr style=\"text-align: right;\">\n",
       "      <th></th>\n",
       "      <th>average assessed total value</th>\n",
       "    </tr>\n",
       "    <tr>\n",
       "      <th>ZipCode</th>\n",
       "      <th></th>\n",
       "    </tr>\n",
       "  </thead>\n",
       "  <tbody>\n",
       "    <tr>\n",
       "      <th>11201</th>\n",
       "      <td>1.672253e+06</td>\n",
       "    </tr>\n",
       "    <tr>\n",
       "      <th>11203</th>\n",
       "      <td>1.210203e+05</td>\n",
       "    </tr>\n",
       "    <tr>\n",
       "      <th>11204</th>\n",
       "      <td>1.045425e+05</td>\n",
       "    </tr>\n",
       "    <tr>\n",
       "      <th>11205</th>\n",
       "      <td>3.509409e+05</td>\n",
       "    </tr>\n",
       "    <tr>\n",
       "      <th>11206</th>\n",
       "      <td>3.115333e+05</td>\n",
       "    </tr>\n",
       "  </tbody>\n",
       "</table>\n",
       "</div>"
      ],
      "text/plain": [
       "         average assessed total value\n",
       "ZipCode                              \n",
       "11201                    1.672253e+06\n",
       "11203                    1.210203e+05\n",
       "11204                    1.045425e+05\n",
       "11205                    3.509409e+05\n",
       "11206                    3.115333e+05"
      ]
     },
     "execution_count": 384,
     "metadata": {},
     "output_type": "execute_result"
    }
   ],
   "source": [
    "mean_a = pd.DataFrame(group_a.AssessTot.mean()[group_a.ZipCode.count() > 1000])\n",
    "mean_a.columns = ['average assessed total value']\n",
    "mean_a.head()"
   ]
  },
  {
   "cell_type": "markdown",
   "metadata": {},
   "source": [
    "### (c)"
   ]
  },
  {
   "cell_type": "code",
   "execution_count": 448,
   "metadata": {
    "collapsed": false
   },
   "outputs": [],
   "source": [
    "list_a = list(group_a)\n",
    "n = len(list_a)\n",
    "params_a = pd.DataFrame(np.zeros((n,3)))\n",
    "for i in range(n):\n",
    "    list(list_a[i])\n",
    "    list_a[i][1][\"log_LotArea\"] = np.log(list_a[i][1][\"LotArea\"])\n",
    "    list_a[i][1][\"log_AssessTot\"] = np.log(list_a[i][1][\"AssessTot\"])\n",
    "    lm_a = smf.ols(formula = 'log_AssessTot ~ log_LotArea', data = list_a[i][1]).fit()\n",
    "    params_a.iloc[i][0] = list_a[i][0]\n",
    "    params_a.iloc[i][1] = lm_a.params['log_LotArea']\n",
    "    params_a.iloc[i][2] = lm_a.params['Intercept']"
   ]
  },
  {
   "cell_type": "code",
   "execution_count": 449,
   "metadata": {
    "collapsed": false
   },
   "outputs": [
    {
     "data": {
      "text/html": [
       "<div>\n",
       "<table border=\"1\" class=\"dataframe\">\n",
       "  <thead>\n",
       "    <tr style=\"text-align: right;\">\n",
       "      <th></th>\n",
       "      <th>ZipCode</th>\n",
       "      <th>slope coefficient</th>\n",
       "      <th>Intercept</th>\n",
       "    </tr>\n",
       "  </thead>\n",
       "  <tbody>\n",
       "    <tr>\n",
       "      <th>0</th>\n",
       "      <td>11201</td>\n",
       "      <td>1.405662</td>\n",
       "      <td>1.063719</td>\n",
       "    </tr>\n",
       "    <tr>\n",
       "      <th>1</th>\n",
       "      <td>11203</td>\n",
       "      <td>1.391849</td>\n",
       "      <td>-0.514992</td>\n",
       "    </tr>\n",
       "    <tr>\n",
       "      <th>2</th>\n",
       "      <td>11204</td>\n",
       "      <td>1.280166</td>\n",
       "      <td>0.749454</td>\n",
       "    </tr>\n",
       "    <tr>\n",
       "      <th>3</th>\n",
       "      <td>11205</td>\n",
       "      <td>1.503683</td>\n",
       "      <td>-0.847322</td>\n",
       "    </tr>\n",
       "    <tr>\n",
       "      <th>4</th>\n",
       "      <td>11206</td>\n",
       "      <td>1.487366</td>\n",
       "      <td>-0.885102</td>\n",
       "    </tr>\n",
       "  </tbody>\n",
       "</table>\n",
       "</div>"
      ],
      "text/plain": [
       "   ZipCode  slope coefficient  Intercept\n",
       "0    11201           1.405662   1.063719\n",
       "1    11203           1.391849  -0.514992\n",
       "2    11204           1.280166   0.749454\n",
       "3    11205           1.503683  -0.847322\n",
       "4    11206           1.487366  -0.885102"
      ]
     },
     "execution_count": 449,
     "metadata": {},
     "output_type": "execute_result"
    }
   ],
   "source": [
    "params_a.columns = [\"ZipCode\",\"slope coefficient\",\"Intercept\"]\n",
    "params_a['ZipCode'] = params_a['ZipCode'].astype(int)\n",
    "params_a.head()"
   ]
  },
  {
   "cell_type": "markdown",
   "metadata": {},
   "source": [
    "### (d)"
   ]
  },
  {
   "cell_type": "code",
   "execution_count": 573,
   "metadata": {
    "collapsed": false
   },
   "outputs": [
    {
     "data": {
      "image/png": "[encoded data removed]",
      "text/plain": [
       "<matplotlib.figure.Figure at 0x1260c40d0>"
      ]
     },
     "metadata": {},
     "output_type": "display_data"
    }
   ],
   "source": [
    "f, (ax1, ax2) = plt.subplots(1,2,figsize=(16,8))\n",
    "\n",
    "mean_a['average assessed total value'].plot.bar(ax = ax1)\n",
    "ax1.xaxis.set_ticklabels(mean_a.index)\n",
    "ax2.set_xlabel(\"ZipCode\")\n",
    "ax2.set_ylabel(\"average assessed total value\")\n",
    "\n",
    "params_a[\"slope coefficient\"].plot.bar(ax = ax2)\n",
    "ax2.xaxis.set_ticklabels(params_a.ZipCode)\n",
    "ax2.set_xlabel(\"ZipCode\")\n",
    "ax2.set_ylabel(\"slope coefficient\")\n",
    "\n",
    "plt.show()"
   ]
  },
  {
   "cell_type": "code",
   "execution_count": 542,
   "metadata": {
    "collapsed": false
   },
   "outputs": [
    {
     "data": {
      "text/html": [
       "<div>\n",
       "<table border=\"1\" class=\"dataframe\">\n",
       "  <thead>\n",
       "    <tr style=\"text-align: right;\">\n",
       "      <th></th>\n",
       "      <th>ZipCode</th>\n",
       "      <th>slope coefficient</th>\n",
       "      <th>Intercept</th>\n",
       "    </tr>\n",
       "  </thead>\n",
       "  <tbody>\n",
       "    <tr>\n",
       "      <th>37</th>\n",
       "      <td>11241</td>\n",
       "      <td>1.788466</td>\n",
       "      <td>0.189587</td>\n",
       "    </tr>\n",
       "    <tr>\n",
       "      <th>14</th>\n",
       "      <td>11216</td>\n",
       "      <td>1.649113</td>\n",
       "      <td>-2.251156</td>\n",
       "    </tr>\n",
       "    <tr>\n",
       "      <th>35</th>\n",
       "      <td>11238</td>\n",
       "      <td>1.621558</td>\n",
       "      <td>-1.764020</td>\n",
       "    </tr>\n",
       "    <tr>\n",
       "      <th>19</th>\n",
       "      <td>11221</td>\n",
       "      <td>1.592814</td>\n",
       "      <td>-2.143264</td>\n",
       "    </tr>\n",
       "    <tr>\n",
       "      <th>11</th>\n",
       "      <td>11213</td>\n",
       "      <td>1.584304</td>\n",
       "      <td>-1.940636</td>\n",
       "    </tr>\n",
       "  </tbody>\n",
       "</table>\n",
       "</div>"
      ],
      "text/plain": [
       "    ZipCode  slope coefficient  Intercept\n",
       "37    11241           1.788466   0.189587\n",
       "14    11216           1.649113  -2.251156\n",
       "35    11238           1.621558  -1.764020\n",
       "19    11221           1.592814  -2.143264\n",
       "11    11213           1.584304  -1.940636"
      ]
     },
     "execution_count": 542,
     "metadata": {},
     "output_type": "execute_result"
    }
   ],
   "source": [
    "params_a.sort_values(by = \"slope coefficient\", ascending = False).head(5)"
   ]
  }
 ],
 "metadata": {
  "anaconda-cloud": {},
  "kernelspec": {
   "display_name": "Python [Root]",
   "language": "python",
   "name": "Python [Root]"
  },
  "language_info": {
   "codemirror_mode": {
    "name": "ipython",
    "version": 2
   },
   "file_extension": ".py",
   "mimetype": "text/x-python",
   "name": "python",
   "nbconvert_exporter": "python",
   "pygments_lexer": "ipython2",
   "version": "2.7.12"
  }
 },
 "nbformat": 4,
 "nbformat_minor": 0
}
