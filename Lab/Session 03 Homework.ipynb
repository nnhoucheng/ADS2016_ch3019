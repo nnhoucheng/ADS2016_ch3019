{
 "cells": [
  {
   "cell_type": "markdown",
   "metadata": {},
   "source": [
    "# Homework 02 --- Session 3, Multilinear regression"
   ]
  },
  {
   "cell_type": "markdown",
   "metadata": {
    "collapsed": true
   },
   "source": [
    "## EX 1 Artificial data (25pt -- 5+5+5+10)\n",
    "### Dataset 'https://serv.cusp.nyu.edu/~cq299/ADS2016/Data/H31.csv'\n",
    "### Tasks:\n",
    "Consider a multivariate regression of the output variable $y$ over the 3 regressors $x_1$, $x_2$, $x_3$ as follows.\n",
    "* (a) Which one of the regressors serves as dummy variable corresponding to an intercept term?\n",
    "    * Ignore the first column since it's just a duplicate index (You can avoid it by running **ex1 = pd.read_csv('https://serv.cusp.nyu.edu/~cq299/ADS2016/Data/H31.csv', index_col=0)** )\n",
    "* (b) Calculate the coefficients $\\hat w$ manually or with python *numpy* module by using matrix computation.\n",
    "* (c) Verify your answer by implementing the OLS regression function with python *statsmodels* module.\n",
    "* (d) Visualize the data points and your fitted model in a 3D plot, like we did in the lab session."
   ]
  },
  {
   "cell_type": "markdown",
   "metadata": {},
   "source": [
    "## EX 2, Income vs Insurance coverage (35+10pt -- 10+10+5+10+10)\n",
    "### Dataset 'https://serv.cusp.nyu.edu/~cq299/ADS2016/Data/IncomeInsReg.csv'\n",
    "You are given the demographic data of insurance coverage in NYC, with the details:\n",
    "* Zip code\n",
    "* Total population (for each zip code)\n",
    "* Population with No Insurance coverage\n",
    "* Population with Insurance coverage\n",
    "    * Population with Public Insurance coverage\n",
    "    * Population with Private Insurance coverage\n",
    "\n",
    "### Tasks:\n",
    "* (a) Verify that there are some people with BOTH public insurance and private insurance according to this data set, then create a new column containing such information\n",
    "* (b) Modify the old data frame, or simply create a new one, such that this data frame contains (including but not limited to) the following information in each zipcode area:\n",
    "    * IncomePerCapita\n",
    "    * Total Population\n",
    "    * Population with NO Insurance coverage\n",
    "    * Population with Public Insurance coverage ONLY\n",
    "    * Population with Private Insurance coverage ONLY\n",
    "    * Population with BOTH types of Insurance coverage\n",
    "* (c) Similar to the lab example, drop the parts with NaN(if any), convert all population number into proportion (percentage, with the form 58.3 instead of 0.583)\n",
    "* (d) Regress over these proportions (the ones mentioned in part b, leave out \"No Insurance Coverage\") -- What interesting results do we have here? Briefly state what you've obtained.\n",
    "#### Extra credit:\n",
    "* (e) Visualize the observed income versus the predicted income, like what we did in the lab session. Does this fitted line look great or not? If you're not sure, check the correlation matrix and make a guess."
   ]
  },
  {
   "cell_type": "markdown",
   "metadata": {},
   "source": [
    "## EX 3, Polynomial fit (40+30pt -- 4+5+3$\\times$4+5+3$\\times$3+5+30)\n",
    "\n",
    "### Try to fit y with a polynomial $$\\hat y(x,w) = \\sum\\limits_{i=1}^M w_i\\cdot x^i$$ with the given dataset 'https://serv.cusp.nyu.edu/~cq299/ADS2016/Data/H33.csv'\n",
    "\n",
    "### Tasks:\n",
    "* (a) Draw the scatter plot of x and y, guess what polynomial could be the best choice. (The name \"x1\" denotes $x^1$.)\n",
    "* (b) Create new columns in data frame to contain the information of $x^2, x^3, x^4$\n",
    "* (c) Try to fit y with polynomial of x with order 1, 2, 3, 4, respectively\n",
    "    * For each model, store your fitted parameters as well as your $R^2$\n",
    "* (d) Report the $R^2$, plot it and observe how it changes\n",
    "* (e) Create a figure with four(4) subfigures, then in each subfigure:\n",
    "    * (e.1) Draw the scatter plot\n",
    "    * (e.2) Plot the curve of true function $f(x) = 9x^2 - x + 1$\n",
    "    * (e.3) Plot your fitted curve, observe how our model fits the data as M increases\n",
    "* (f) Based on the plot, which model(s) fits the true curve best? Then provide the best coefficients $\\hat w$\n",
    "### Extra credit\n",
    "* (g) In each subfigure:\n",
    "    * (g.1) Pick a x value (at your discretion) $x_0$, then locate the y value both on your fitted curve and on our function curve ($f(x_0)$)\n",
    "    * (g.2) Mark these two points with a small diamond, then draw a dashed line connecting them, showing \"prediction error\" (You can read the lecture slides and find some inspiration at the end.)\n",
    "    * (g.3) Repeat g.1 and g.2 up to ten times (i.e. select up to ten different future points and predict their values, compare your prediction with the true value), then:\n",
    "        * Compute the average sum of squares of errors $E = \\frac{\\sum_i^n (y_i - f(x_i))^2}{n}$ ($x_i$ denotes your future points), mention it in your subfigure's title (**Be sure to use the SAME future points for ALL 4 models when you calculate prediction error**)\n",
    "        * Which model has the smallest average error $E$? Does this fitted polynomial coincides with the M you picked in part f?"
   ]
  },
  {
   "cell_type": "code",
   "execution_count": null,
   "metadata": {
    "collapsed": true
   },
   "outputs": [],
   "source": []
  }
 ],
 "metadata": {
  "kernelspec": {
   "display_name": "Python [Root]",
   "language": "python",
   "name": "Python [Root]"
  },
  "language_info": {
   "codemirror_mode": {
    "name": "ipython",
    "version": 2
   },
   "file_extension": ".py",
   "mimetype": "text/x-python",
   "name": "python",
   "nbconvert_exporter": "python",
   "pygments_lexer": "ipython2",
   "version": "2.7.12"
  }
 },
 "nbformat": 4,
 "nbformat_minor": 0
}
