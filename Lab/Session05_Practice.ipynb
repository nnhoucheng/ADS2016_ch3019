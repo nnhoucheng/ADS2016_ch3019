{
 "cells": [
  {
   "cell_type": "markdown",
   "metadata": {},
   "source": [
    "# Session 5, Statistical diagnostics of the regression, Hypothesis Testing and Confidence Intervals (CI)"
   ]
  },
  {
   "cell_type": "markdown",
   "metadata": {},
   "source": [
    "# 1. Probabilistic approach to the linear regression\n",
    "\n",
    "When fitting a linear model one should admit that the model's accuracy is not absolute: \n",
    "$$\n",
    "y=w_1 x + w_0 +\\varepsilon,\\hspace{5ex} (1)\n",
    "$$\n",
    "where $\\varepsilon$ is the model's error (often called noise or residual) or \n",
    "$$\n",
    "y=w^T x +\\varepsilon,\\hspace{5ex} (2)\n",
    "$$\n",
    "for the multivariate case with $x$ being an $n$-dimentional vector.\n",
    "\n",
    "Uncertainty of the model (1) prediction can be expressed by considering $\\varepsilon$ as a random variable representing deviations of the actual values of $y$ from the estimates provided by the precise linear model. A basic assumption is to have $\\varepsilon\\sim{\\cal N}(0,\\sigma^2)$ (mean is zero as otherwise the intercept term $w_0$ could be corrected accordingly). \n",
    "\n",
    "Often observations $y_i,x_i$ are spread in time ($i$ - could be time of the observation). \n",
    "Classical regression assumptions (Gauss-Markov): $\\sigma$ is the same for all observations (does not depend on time) and errors $\\varepsilon_i$ following ${\\cal N}(0,\\sigma^2)$ are mutually uncorrelated, i.e. $cov(\\epsilon_i,\\epsilon_j)=0$ for $i\\neq j$. \n",
    "\n",
    "An alternative way of representing this linear model is by considering $y$ as a random variable and expressing it's conditional probability density function with respect to given $x$ and $w$ as\n",
    "$$\n",
    "p(y|x,w)={\\cal N}(y|w_1 x+w_0,\\sigma^2).\\hspace{5ex} (3)\n",
    "$$\n",
    "\n",
    "This way it is actually the mean of the distribution (3) which is predicted by a linear model.\n",
    "Now the problem is to fit unknown parameters of the model $w_1,w_0,\\sigma$ (the last one $\\sigma$ represents how usually close are the values of $y$ to the linear prediction), so that the model is the most consistent with the training data $\\{(x_j,y_j), j=1..N\\}$.\n",
    "\n",
    "Fitting could be done through maximizing the likelihood that the observed data $y_j$ actually follows the suggested distribution (3). Likelihood is defined as a product of probability density values $\\prod\\limits_j p(y_j|x_j)$. But it's actually more practical to maximize the log-likelihood (which is equivalent):\n",
    "$$\n",
    "\\log\\left(\\prod\\limits_j p(y_j|x_j)\\right)=\\sum\\limits_j \\log\\left({\\cal N}(y|w_1 x+w_0,\\sigma^2)\\right)=\n",
    "$$$$\n",
    "=-\\sum\\limits_j \\frac{(y_j-w_1 x_j+w_0)^2}{2\\sigma^2}- N \\log(\\sigma)-N \\log(\\sqrt{2\\pi})\\to\\max\n",
    "$$\n",
    "Optimization with respect to $w$ turns out to be equivalent to the above least-square minimization. Then for minimal $RSS(\\hat{w})$ acheived, $\\sigma$ could be found from\n",
    "$$\n",
    "\\frac{RSS(\\hat{w})}{2\\sigma^2}+N\\log(\\sigma)\\to\\min\n",
    "$$$$\n",
    "\\frac{\\partial\\frac{RSS(\\hat{w})}{2\\sigma^2}+N\\log(\\sigma)}{\\partial \\sigma}=0,\n",
    "$$$$\n",
    "-\\frac{RSS(\\hat{w})}{\\sigma^3}+\\frac{N}{\\sigma}=0,\n",
    "$$$$\n",
    "\\sigma^2=\\frac{RSS(\\hat{w})}{N}.\n",
    "$$\n",
    "However often in order to account for the actual number of degrees of freedom in the model which is $N-2$ rather than $N$, the adjusted version of the above estimate is being used:\n",
    "$$\n",
    "\\sigma^2=\\frac{RSS(\\hat{w})}{N-2}\n",
    "$$\n",
    "\n",
    "In case of the multi-variate regression the probabilistic view on the model in the assumption that $\\varepsilon\\sim {\\cal N}(0,\\sigma^2)$ is\n",
    "$$\n",
    "p(y|x,w,\\sigma)={\\cal N}(y|w^T x,\\sigma^2)\\hspace{5ex} (4).\n",
    "$$\n",
    "\n",
    "Given a training set $X=\\{(x_j^i), j=1...n, i=1...N\\}$, $Y=\\{(y^i), i=1...N\\}$ (further also denote columns of $X$ as $X_j=\\{(x_j^i), i=1...N\\}$), the max-likelihood criteria will take form:\n",
    "$$\n",
    "\\prod\\limits_i p(y^i|x^i,w,\\sigma)\\to \\max.\n",
    "$$\n",
    "or\n",
    "$$\n",
    "\\log\\left(\\prod\\limits_i p(y^i|x^i,w,\\sigma)\\right)=\\sum\\limits_i \\log\\left({\\cal N}(y^i|w^T x^i,\\sigma^2)\\right)=\n",
    "$$$$\n",
    "=-\\sum\\limits_i \\frac{(y^i-w^T x^i)^2}{2\\sigma^2}- N \\log(\\sigma)-N \\log(\\sqrt{2\\pi})=-\\frac{RSS(w)}{2\\sigma^2}-N \\log(\\sigma)-N \\to\\max\n",
    "$$\n",
    "Which is in turn equivalent to\n",
    "$$\n",
    "RSS(w)\\to \\min,\n",
    "$$\n",
    "i.e. least-square criteria plus (just like in case of the bi-variate regression)\n",
    "$$\n",
    "\\frac{RSS(\\hat{w})}{2\\sigma^2}+N\\log(\\sigma)\\to\\min,\n",
    "$$\n",
    "i.e. the estimate $\\hat{\\sigma}$ could be found as\n",
    "$$\n",
    "\\frac{\\partial\\left[\\frac{RSS(\\hat{w})}{2\\sigma^2}+N\\log(\\hat{\\sigma})\\right]}{\\partial \\hat{\\sigma}}=0,\n",
    "$$$$\n",
    "-\\frac{RSS(\\hat{w})}{\\hat{\\sigma}^3}+\\frac{N}{\\hat{\\sigma}}=0,\n",
    "$$$$\n",
    "\\hat{\\sigma}^2=\\frac{RSS(\\hat{w})}{N}. \\hspace{5ex} (5)\n",
    "$$\n",
    "\n",
    "Also an unbiased adjusted estimate is known to be\n",
    "$$\n",
    "\\hat{\\sigma}^2=\\frac{RSS(\\hat{w})}{N-n}. \\hspace{5ex} (5')\n",
    "$$\n",
    "\n"
   ]
  },
  {
   "cell_type": "markdown",
   "metadata": {},
   "source": [
    "# 2. Explanations of regression statistics\n",
    "\n",
    "### R-squared\n",
    "\n",
    "The quality of fit of the linear regression is often expressed by\n",
    "$$\n",
    "R^2=1-\\frac{RSS}{\\sum_i (y_i-\\bar{y})^2}=\\frac{\\sum_i (\\hat{y}_i-\\bar{y})^2}{\\sum_i (y_i-\\bar{y})^2},\n",
    "$$\n",
    "where $\\overline{y}=\\sum\\limits_i y_i$ is the sample mean of observed values of responce variable. This way $R^2$ is often interpreted as a fraction of responce variable's variance explained by linear model. $R^2=1$ is equivalent to $RSS=0$, i.e. the model fits the observations exactly, i.e. responce variable depends linearly on the explaining variables. On the other hand, $R^2=0$ means that the model always predicts the sample mean $\\overline{y}$, i.e. explaining variables $x$ have no effect on responce variable $y$. \n",
    "\n",
    "Least-square criteria is equivalent to maximizing $R^2$.\n",
    "\n",
    "### Confidence intervals\n",
    "As before uncertainty of the model predictions comes together with the uncertainty of the estimate for the model's coefficients estimates $w$. If we start from uncertainty of $y$ taking the observations for the output variable as normally distributed random variables, this leads to a multinomial normal distribution\n",
    "$$\n",
    "w\\sim{\\cal N}(\\hat{w},\\sigma^2(X^T X)^{-1})\n",
    "$$\n",
    "with an average $E[w]=\\hat{w}$ and a variance-covariance matrix \n",
    "$$\n",
    "Var(w)=\\sigma^2(X^T X)^{-1}.\n",
    "$$\n",
    "However while using an estimate (5') for $\\sigma=\\hat{\\sigma}=\\sqrt{\\frac{RSS(\\hat{w})}{N-n}}$ we also have to admit its uncertainty rather than having $\\sigma$ fixed which does not allow to consider a normal distribution for $w$ anymore. Instead one can have a Student's $t$-distributions with $N-n$ degrees of freedom for the standardized quantities\n",
    "$$\n",
    "z_j=\\frac{w_j-\\hat{w_j}}{\\hat{\\sigma} \\sqrt{h_j}},\n",
    "$$\n",
    "where $h_j$ are the $j$-the diagonal elements of the matrix $(X^T X)^{-1}$.\n",
    "\n",
    "This way the confidence intervals for each $\\hat{w}_j$ given the confidence level $1-\\alpha$ are constructred as\n",
    "$$\n",
    "P\\left(w_j\\in[\\hat{w}_j-t_{\\alpha/2}\\sigma\\sqrt{h_j},\\hat{w}_j+t_{\\alpha/2}\\sigma\\sqrt{h_j}]\\right)=1-\\alpha\n",
    "$$\n",
    "where $t_{\\alpha/2}$ are quantiles of the $t$-distribution, i.e. such values that\n",
    "$$\n",
    "P(|z_j|\\leq t_{\\alpha/2})=1-\\alpha\n",
    "$$\n",
    "\n",
    "\n",
    "### Hypothesis testing: P-values, t-statistics\n",
    "\n",
    "Considering the statistical significance of each regressor $w_j$ we evaluate the hypothesis\n",
    "$$\n",
    "H_1:w_j\\neq w_j^0\n",
    "$$\n",
    "vs a null-hypothesis\n",
    "$$\n",
    "H_0:w_j=w_j^0.\n",
    "$$\n",
    "When $w_j^0=0$ this means that we are trying to validate the statistical significance of the non-zero impact of the considered regressor $w_j$. For that purpose we consider a $t$-statistics\n",
    "$$\n",
    "t=\\frac{w_j-w_j^0}{\\hat{\\sigma} \\sqrt{h_j}}.\n",
    "$$\n",
    "If $|t|>t_{\\alpha/2}$ this means that the hypothesis $H_0$ is too unlikely and should be rejected with the confidence level $1-\\alpha$.\n",
    "\n",
    "A $p$-value on the other hand is virtually speaking giving us such an $\\alpha$ based on the observed $t$, i.e. expressed the probability\n",
    "$$\n",
    "P(|z|>|t|)\n",
    "$$\n",
    "of having a $z$ randomly produced by the distribution corresponding to the null-hypothesis value $w_j=w_j^0$ with even higher $|z|$ compared to the observed $|t|$. This can be interpreted as a likelihood that the observed value of $t$ is got just by chance given $w_j=w_j^0$. If this likelihood is lower than a certain threshold value (usually $5\\%$) this is interpreted as having an equation $w_j=w_j^0$ too unlikely, i.e. having to reject the hypothesis $H_0$. Otherwise, if $p-value$ is higher than a threshold value ($>5\\%$) this means that the null-hypothesis can not be rejected with sufficient confidence (of at least $95\\%$) so this might be the case that the regressor does not have a significant impact. \n",
    "\n",
    "It is important to understand that $p$-value is not supposed to prove any specific estimate for the coefficient $w_j$ - it can only make us confident (or uncertain on the contrary) that $w_j\\neq 0$ (or different from another value of interest). Also having a low $p$-values do not prove that the impact of $x_i$ on $y$ is actually linear. In turn, having high $p$-value by itself does not prove that $y$ is independent on $x_i$ (first of all - a linear impact could still be there despite being seen as unlikely, just disguised by noise; second - the actual impact could be non-linear, i.e. not subject to being described by a linear model; third - an impact of the considered regressor might be affected by an overlap with the impact of the other regressors, so it might not be impactful after others are considered, but it might still be impactful by itself.\n",
    "\n",
    "Regressors having high $p$-values are usually not included into the final model in order to stay free from the random insignificnt effects, reducing the risk of overfitting. This is however not the only way of fighting it. Also sequentually excluding regressors based on their $p$-values is not necessarily the best way of the feature selection as high $p$-values might result from multicollinearity, i.e. from having an impact of the considered regressor overlap with the impact of others. And it might happen that excluding other regressors in the first place will better help with fighting the overfitting and also might lead to the decrease of the $p$-values of the remaining regressors as a result.\n",
    "\n",
    "### Hypothesis testing: F-statistics\n",
    "\n",
    "However often we need to test the significance of a subgroup of regressors together (or all of the regressors) testing the entire model against the null-hypothesis that a model based on a smaller subset of $m$ regressors (or just the intercept) of the regressors actually performs not worse than the original one.  The following $F$-statistics helps with that:\n",
    "$$\n",
    "F=\\frac{(RSS_0-RSS_1)(N-n)}{RSS_1\\cdot (n-m)},\n",
    "$$\n",
    "where $RSS_1$ is the optimal (least-square) $RSS$ value for the original regression and $RSS_0$ - is the optimal $RSS$ value of the regression based on the considered subset of $m$ regressors (testing the hypothesis that only those $m$ regressors are significant). If we only consider a cumulative impact of all the regressors vs a trivial regression having just the intercept, then $m-1$ and $F$-statitics could be expressed through $R^2$:\n",
    "$$\n",
    "F=\\frac{R^2 (N-n)}{(1-R^2)(n-1)}.\n",
    "$$\n",
    "R and python will report the value of $F$ for the null-hypothesis that only the intercept is significant, as well as the $p$-value characterizing this $F$-statistics.\n",
    "\n",
    "If $F$-statistics above is a critical value corresponding to a certain level of confidence $1-\\alpha$ (or if the corresponding $p$-value is below the threshold $\\alpha$ one rejects the null-hypothesis of having all the considered regressors together insignificant. Otherwise this hypothesis can not be rejected, so it might be the case that regressors do not really have an impact. But once again $F$-statistics can not prove any specific estimates for the coefficients, nor can it prove a linear impact of those regressors.\n",
    "\n",
    "\n"
   ]
  },
  {
   "cell_type": "markdown",
   "metadata": {},
   "source": [
    "# 3. Feature selection\n",
    "\n",
    "In case the statistical significance of the impact of the considered regressors is being questioned, or  multicollinearity or overfitting is observed, reducing complexity of the model (number of features or their dimensionality) is usually recommended. The most straighforward way of doing so is through feature selection. \n",
    "\n",
    "This can be done by selecting a subset of the regressors of the given size $k$ maximizing the model fit ($R^2$) over the validation sample. Two common ways of doing that are\n",
    "- Step-backward: keep removing regressors (one by one) having the highest negative or lowest positive impact on the validation $R^2$, until a target number of features is reached or until validation $R^2$ can not be improved anymore;\n",
    "- Step-forward: keep adding regressors (one by one) having the maximal positive impact or minimal negative impact on the validation $R^2$, until a target number of features is reached or until validation $R^2$ can not be improved anymore.\n",
    "\n",
    "Those are not the only two ways - one can also consider more sophisticated heursitics for the selection of the best combination of the regressors. \n",
    "\n",
    "Drawback - by removing regressors we're discarding information from the feature space, while it could happen that both - noise as well as important information - are spread among all the regressors."
   ]
  },
  {
   "cell_type": "code",
   "execution_count": 1,
   "metadata": {
    "collapsed": false,
    "scrolled": false
   },
   "outputs": [
    {
     "name": "stdout",
     "output_type": "stream",
     "text": [
      "Populating the interactive namespace from numpy and matplotlib\n"
     ]
    }
   ],
   "source": [
    "import numpy as np\n",
    "import pandas as pd\n",
    "import matplotlib.pyplot as plt\n",
    "%pylab inline\n",
    "import statsmodels.formula.api as smf\n",
    "\n",
    "from scipy.stats import t"
   ]
  },
  {
   "cell_type": "code",
   "execution_count": 2,
   "metadata": {
    "collapsed": false
   },
   "outputs": [],
   "source": [
    "path = 'https://serv.cusp.nyu.edu/~cq299/ADS2016/Data/'\n",
    "matplotlib.rcParams['figure.figsize'] = [10,4]"
   ]
  },
  {
   "cell_type": "markdown",
   "metadata": {},
   "source": [
    "# Example 1\n",
    "### Revisit univariate regression with housing price"
   ]
  },
  {
   "cell_type": "code",
   "execution_count": 3,
   "metadata": {
    "collapsed": false,
    "scrolled": true
   },
   "outputs": [
    {
     "data": {
      "text/html": [
       "<div>\n",
       "<table border=\"1\" class=\"dataframe\">\n",
       "  <thead>\n",
       "    <tr style=\"text-align: right;\">\n",
       "      <th></th>\n",
       "      <th>zip_code</th>\n",
       "      <th>residential_units</th>\n",
       "      <th>land_sq_feet</th>\n",
       "      <th>gross_sq_feet</th>\n",
       "      <th>year_built</th>\n",
       "      <th>sale_price</th>\n",
       "      <th>sale_date</th>\n",
       "    </tr>\n",
       "  </thead>\n",
       "  <tbody>\n",
       "    <tr>\n",
       "      <th>0</th>\n",
       "      <td>11204</td>\n",
       "      <td>4</td>\n",
       "      <td>2800</td>\n",
       "      <td>3600</td>\n",
       "      <td>1926</td>\n",
       "      <td>833000</td>\n",
       "      <td>2007-02-01</td>\n",
       "    </tr>\n",
       "    <tr>\n",
       "      <th>1</th>\n",
       "      <td>11204</td>\n",
       "      <td>2</td>\n",
       "      <td>4000</td>\n",
       "      <td>2492</td>\n",
       "      <td>1940</td>\n",
       "      <td>790000</td>\n",
       "      <td>2007-01-19</td>\n",
       "    </tr>\n",
       "    <tr>\n",
       "      <th>2</th>\n",
       "      <td>11204</td>\n",
       "      <td>3</td>\n",
       "      <td>3000</td>\n",
       "      <td>4086</td>\n",
       "      <td>1920</td>\n",
       "      <td>272766</td>\n",
       "      <td>2003-11-20</td>\n",
       "    </tr>\n",
       "  </tbody>\n",
       "</table>\n",
       "</div>"
      ],
      "text/plain": [
       "   zip_code  residential_units  land_sq_feet  gross_sq_feet  year_built  \\\n",
       "0     11204                  4          2800           3600        1926   \n",
       "1     11204                  2          4000           2492        1940   \n",
       "2     11204                  3          3000           4086        1920   \n",
       "\n",
       "   sale_price   sale_date  \n",
       "0      833000  2007-02-01  \n",
       "1      790000  2007-01-19  \n",
       "2      272766  2003-11-20  "
      ]
     },
     "execution_count": 3,
     "metadata": {},
     "output_type": "execute_result"
    }
   ],
   "source": [
    "data1 = pd.read_csv(path + 'Se3_Ex1.csv')\n",
    "data1.head(3)"
   ]
  },
  {
   "cell_type": "code",
   "execution_count": 4,
   "metadata": {
    "collapsed": false
   },
   "outputs": [
    {
     "data": {
      "text/html": [
       "<div>\n",
       "<table border=\"1\" class=\"dataframe\">\n",
       "  <thead>\n",
       "    <tr style=\"text-align: right;\">\n",
       "      <th></th>\n",
       "      <th>zip_code</th>\n",
       "      <th>residential_units</th>\n",
       "      <th>land_sq_feet</th>\n",
       "      <th>gross_sq_feet</th>\n",
       "      <th>year_built</th>\n",
       "      <th>sale_price</th>\n",
       "      <th>sale_date</th>\n",
       "      <th>year_gap</th>\n",
       "    </tr>\n",
       "  </thead>\n",
       "  <tbody>\n",
       "    <tr>\n",
       "      <th>0</th>\n",
       "      <td>11204</td>\n",
       "      <td>4</td>\n",
       "      <td>2800</td>\n",
       "      <td>3600</td>\n",
       "      <td>1926</td>\n",
       "      <td>833000</td>\n",
       "      <td>2007-02-01</td>\n",
       "      <td>81</td>\n",
       "    </tr>\n",
       "    <tr>\n",
       "      <th>1</th>\n",
       "      <td>11204</td>\n",
       "      <td>2</td>\n",
       "      <td>4000</td>\n",
       "      <td>2492</td>\n",
       "      <td>1940</td>\n",
       "      <td>790000</td>\n",
       "      <td>2007-01-19</td>\n",
       "      <td>67</td>\n",
       "    </tr>\n",
       "    <tr>\n",
       "      <th>2</th>\n",
       "      <td>11204</td>\n",
       "      <td>3</td>\n",
       "      <td>3000</td>\n",
       "      <td>4086</td>\n",
       "      <td>1920</td>\n",
       "      <td>272766</td>\n",
       "      <td>2003-11-20</td>\n",
       "      <td>83</td>\n",
       "    </tr>\n",
       "  </tbody>\n",
       "</table>\n",
       "</div>"
      ],
      "text/plain": [
       "   zip_code  residential_units  land_sq_feet  gross_sq_feet  year_built  \\\n",
       "0     11204                  4          2800           3600        1926   \n",
       "1     11204                  2          4000           2492        1940   \n",
       "2     11204                  3          3000           4086        1920   \n",
       "\n",
       "   sale_price   sale_date  year_gap  \n",
       "0      833000  2007-02-01        81  \n",
       "1      790000  2007-01-19        67  \n",
       "2      272766  2003-11-20        83  "
      ]
     },
     "execution_count": 4,
     "metadata": {},
     "output_type": "execute_result"
    }
   ],
   "source": [
    "# Extract the \"year\" from \"sale_date\" and subtract \"year_built\" to obtain the \"year_gap\"\n",
    "# -- How old is that house when it was sold?\n",
    "year_sale = lambda s:int(s[:4])\n",
    "data1['year_gap'] = data1.sale_date.apply(year_sale) - data1.year_built\n",
    "data1.head(3)"
   ]
  },
  {
   "cell_type": "code",
   "execution_count": 5,
   "metadata": {
    "collapsed": true
   },
   "outputs": [],
   "source": [
    "data = data1[:100]\n",
    "train = data[:70]\n",
    "valid = data[70:]\n",
    "\n",
    "# An anonymous function that returns your regression model for future usage\n",
    "Regress = lambda feature: smf.ols(formula = 'sale_price ~ %s'%feature, data = train).fit()\n",
    "\n",
    "# For displaying R^2 and linear model summary\n",
    "def modelEval(lm, key = 'sale_price'):\n",
    "    lmy = lm.predict(valid)\n",
    "    y_err = lmy - valid[key]\n",
    "    y_norm = valid[key]-mean(valid[key])\n",
    "    R2 = 1-y_err.dot(y_err)/y_norm.dot(y_norm)  # R2 w.r.t. validation set\n",
    "    print('Validation R^2 is %f'%R2)\n",
    "    print(lm.summary())\n",
    "    plt.plot(lmy, lmy, 'b-')\n",
    "    plt.plot(lmy, valid.sale_price,'or')"
   ]
  },
  {
   "cell_type": "code",
   "execution_count": 6,
   "metadata": {
    "collapsed": false,
    "scrolled": false
   },
   "outputs": [
    {
     "name": "stdout",
     "output_type": "stream",
     "text": [
      "Validation R^2 is 0.576572\n",
      "                            OLS Regression Results                            \n",
      "==============================================================================\n",
      "Dep. Variable:             sale_price   R-squared:                       0.119\n",
      "Model:                            OLS   Adj. R-squared:                  0.106\n",
      "Method:                 Least Squares   F-statistic:                     9.211\n",
      "Date:                Wed, 05 Oct 2016   Prob (F-statistic):            0.00341\n",
      "Time:                        11:10:16   Log-Likelihood:                -949.64\n",
      "No. Observations:                  70   AIC:                             1903.\n",
      "Df Residuals:                      68   BIC:                             1908.\n",
      "Df Model:                           1                                         \n",
      "Covariance Type:            nonrobust                                         \n",
      "=================================================================================\n",
      "                    coef    std err          t      P>|t|      [95.0% Conf. Int.]\n",
      "---------------------------------------------------------------------------------\n",
      "Intercept      4.286e+05   7.15e+04      5.997      0.000      2.86e+05  5.71e+05\n",
      "gross_sq_feet    80.1990     26.426      3.035      0.003        27.467   132.931\n",
      "==============================================================================\n",
      "Omnibus:                        5.708   Durbin-Watson:                   2.479\n",
      "Prob(Omnibus):                  0.058   Jarque-Bera (JB):                4.865\n",
      "Skew:                          -0.598   Prob(JB):                       0.0878\n",
      "Kurtosis:                       3.486   Cond. No.                     8.45e+03\n",
      "==============================================================================\n",
      "\n",
      "Warnings:\n",
      "[1] Standard Errors assume that the covariance matrix of the errors is correctly specified.\n",
      "[2] The condition number is large, 8.45e+03. This might indicate that there are\n",
      "strong multicollinearity or other numerical problems.\n"
     ]
    },
    {
     "data": {
      "image/png": "[encoded data removed]",
      "text/plain": [
       "<matplotlib.figure.Figure at 0x11754fd90>"
      ]
     },
     "metadata": {},
     "output_type": "display_data"
    }
   ],
   "source": [
    "grossArea = Regress('gross_sq_feet')\n",
    "modelEval( grossArea )"
   ]
  },
  {
   "cell_type": "code",
   "execution_count": 7,
   "metadata": {
    "collapsed": false
   },
   "outputs": [
    {
     "data": {
      "text/html": [
       "<div>\n",
       "<table border=\"1\" class=\"dataframe\">\n",
       "  <thead>\n",
       "    <tr style=\"text-align: right;\">\n",
       "      <th></th>\n",
       "      <th>sale_price</th>\n",
       "      <th>gross_sq_feet</th>\n",
       "    </tr>\n",
       "  </thead>\n",
       "  <tbody>\n",
       "    <tr>\n",
       "      <th>sale_price</th>\n",
       "      <td>1.000000</td>\n",
       "      <td>0.464211</td>\n",
       "    </tr>\n",
       "    <tr>\n",
       "      <th>gross_sq_feet</th>\n",
       "      <td>0.464211</td>\n",
       "      <td>1.000000</td>\n",
       "    </tr>\n",
       "  </tbody>\n",
       "</table>\n",
       "</div>"
      ],
      "text/plain": [
       "               sale_price  gross_sq_feet\n",
       "sale_price       1.000000       0.464211\n",
       "gross_sq_feet    0.464211       1.000000"
      ]
     },
     "execution_count": 7,
     "metadata": {},
     "output_type": "execute_result"
    }
   ],
   "source": [
    "data[['sale_price','gross_sq_feet']].corr()"
   ]
  },
  {
   "cell_type": "markdown",
   "metadata": {},
   "source": [
    "## t-distribution -- one-sided"
   ]
  },
  {
   "cell_type": "code",
   "execution_count": 8,
   "metadata": {
    "collapsed": false
   },
   "outputs": [
    {
     "data": {
      "text/plain": [
       "<matplotlib.text.Text at 0x11a3e4e50>"
      ]
     },
     "execution_count": 8,
     "metadata": {},
     "output_type": "execute_result"
    },
    {
     "data": {
      "image/png": "[encoded data removed]",
      "text/plain": [
       "<matplotlib.figure.Figure at 0x1175d70d0>"
      ]
     },
     "metadata": {},
     "output_type": "display_data"
    }
   ],
   "source": [
    "df = 20    # degree of freedom\n",
    "x = np.arange(-5,5,0.01)\n",
    "y = t.pdf(x, df)    # default setting with location parameter 0 and scale parameter 1\n",
    "q = 0.3\n",
    "t0 = t.isf(q, df)   # calculate the percentile/partition point (inverse survival function)\n",
    "ax = plt.figure(figsize=(14,5)).add_subplot(111)\n",
    "\n",
    "# For painting colored area\n",
    "ax.fill_between(x[x<t0], 0, y[x<t0], facecolor = 'gold')\n",
    "ax.fill_between(x[x>t0], 0, y[x>t0], facecolor = 'g')\n",
    "# Annotations\n",
    "ax.text(t0+0.3,0.06,'$SF(t_0) = P(T>t_0)$', fontsize = 24)\n",
    "ax.text(t0-3.5,0.06,'$CDF(t_0) = P(T\\leq t_0)$', fontsize = 24)\n",
    "ax.text(t0-1, 0.12, '%.0f%%'%(100*(1-q)), fontsize = 24)\n",
    "ax.text(t0+0.1,0.12, '%.0f%%'%(100*q), fontsize = 24)\n",
    "ax.text(t0-0.1, -0.03, '$t_0$', fontsize = 22)"
   ]
  },
  {
   "cell_type": "markdown",
   "metadata": {},
   "source": [
    "## Two-sided"
   ]
  },
  {
   "cell_type": "code",
   "execution_count": 9,
   "metadata": {
    "collapsed": false
   },
   "outputs": [
    {
     "data": {
      "text/plain": [
       "<matplotlib.text.Text at 0x11aa86810>"
      ]
     },
     "execution_count": 9,
     "metadata": {},
     "output_type": "execute_result"
    },
    {
     "data": {
      "image/png": "[encoded data removed]",
      "text/plain": [
       "<matplotlib.figure.Figure at 0x11750ffd0>"
      ]
     },
     "metadata": {},
     "output_type": "display_data"
    }
   ],
   "source": [
    "q = 0.1/2\n",
    "t0 = t.ppf(q, df)   # lower bound\n",
    "t1 = t.isf(q, df)   # upper bound\n",
    "\n",
    "ax = plt.figure(figsize=(14,5)).add_subplot(111)\n",
    "ax.fill_between(x[(x<t0) | (x>t1)], 0, y[(x<t0) | (x>t1)], facecolor = 'green') # tails\n",
    "ax.fill_between(x[(x>t0) & (x<t1)], 0, y[(x>t0) & (x<t1)], facecolor = 'gold')  # center\n",
    "# Annotations\n",
    "ax.text(t1+0.3, 0.12, '%.2f%%'%(100*q), fontsize = 24)\n",
    "ax.text(t0-1.6, 0.12, '%.2f%%'%(100*q), fontsize = 24)\n",
    "ax.text(-0.7, 0.12, '%.2f%%'%(100*(1-q*2)), fontsize = 24)\n",
    "ax.text(t0-0.1, -0.03, '$t_0$', fontsize = 22)\n",
    "ax.text(t1-0.1, -0.03, '$t_1$', fontsize = 22)"
   ]
  },
  {
   "cell_type": "markdown",
   "metadata": {},
   "source": [
    "### Method 1, with t distribution, two-sided"
   ]
  },
  {
   "cell_type": "markdown",
   "metadata": {},
   "source": [
    "For those who are interested:  \n",
    "Given a univariate linear regression $y = w_0 + w_1x + \\epsilon$, we have:\n",
    "1. The Mean Square Error (MSE) is obtained by\n",
    "$$MSE = \\frac{\\sum_{i=1}^n (\\hat y_i - y_i)^2}{n-2}$$\n",
    "where the residual can be found by calling **lm.resid** once you have the linear regression model **lm**, and the n−2 term accounts for the loss of 2 degrees of freedom in the estimation of the intercept and the slope.\n",
    "\n",
    "2. Then the Standard Error (SE) of linear regression coefficient $w_1$ can be computed by\n",
    "$$SE(w_1) = \\sqrt\\frac{MSE}{\\sum_{i=1}^n(x_i-\\bar x)^2}$$\n",
    "but you can always save yourself the trouble by calling **lm.bse**"
   ]
  },
  {
   "cell_type": "code",
   "execution_count": 10,
   "metadata": {
    "collapsed": false
   },
   "outputs": [
    {
     "data": {
      "text/plain": [
       "26.425726697238748"
      ]
     },
     "execution_count": 10,
     "metadata": {},
     "output_type": "execute_result"
    }
   ],
   "source": [
    "x_err = train.gross_sq_feet - train.gross_sq_feet.mean()\n",
    "sqrt(grossArea.resid.dot(grossArea.resid)/(70-2)  # MSE\n",
    "     /(x_err.dot(x_err)))"
   ]
  },
  {
   "cell_type": "code",
   "execution_count": 11,
   "metadata": {
    "collapsed": false
   },
   "outputs": [
    {
     "data": {
      "text/plain": [
       "Intercept        71471.969276\n",
       "gross_sq_feet       26.425727\n",
       "dtype: float64"
      ]
     },
     "execution_count": 11,
     "metadata": {},
     "output_type": "execute_result"
    }
   ],
   "source": [
    "grossArea.bse"
   ]
  },
  {
   "cell_type": "code",
   "execution_count": 12,
   "metadata": {
    "collapsed": false,
    "scrolled": true
   },
   "outputs": [
    {
     "data": {
      "text/plain": [
       "Intercept        428593.699565\n",
       "gross_sq_feet        80.199007\n",
       "dtype: float64"
      ]
     },
     "execution_count": 12,
     "metadata": {},
     "output_type": "execute_result"
    }
   ],
   "source": [
    "grossArea.params"
   ]
  },
  {
   "cell_type": "code",
   "execution_count": 13,
   "metadata": {
    "collapsed": false
   },
   "outputs": [
    {
     "data": {
      "text/plain": [
       "(27.467290096835185, 132.93072329944977)"
      ]
     },
     "execution_count": 13,
     "metadata": {},
     "output_type": "execute_result"
    }
   ],
   "source": [
    "key = 'gross_sq_feet'\n",
    "\n",
    "t.interval(0.95, grossArea.df_resid,    # degree of freedom is stored in lm.df_resid\n",
    "           loc = grossArea.params[key], # fitted coefficient\n",
    "           scale = grossArea.bse[key])  # standard error"
   ]
  },
  {
   "cell_type": "markdown",
   "metadata": {},
   "source": [
    "### Method 2, manually compute--what if we want to calculate one-sided CI?"
   ]
  },
  {
   "cell_type": "code",
   "execution_count": 14,
   "metadata": {
    "collapsed": false
   },
   "outputs": [
    {
     "name": "stdout",
     "output_type": "stream",
     "text": [
      "[36.132197,124.265816]\n"
     ]
    }
   ],
   "source": [
    "# One-sided CI, p = 0.95 or q = 1-0.95\n",
    "    # lower intervel, t.isf(q) or t.ppf(p), then your CI is (-inf, t.isf(q))\n",
    "    # upper interval, t.ppf(q) or t.isf(p), then your CI is (t.ppf(q), inf)\n",
    "    # don't forget your degree of freedom\n",
    "# Two-sided CI, both side, then:\n",
    "q = (1-0.9)/2\n",
    "lowerBound = t.ppf(q, grossArea.df_resid) * grossArea.bse[key] + grossArea.params[key]\n",
    "upperBound = t.isf(q, grossArea.df_resid) * grossArea.bse[key] + grossArea.params[key]\n",
    "print('[%f,%f]'%(lowerBound,upperBound))"
   ]
  },
  {
   "cell_type": "markdown",
   "metadata": {},
   "source": [
    "### Method 3, two-sided, use conf_int instance from statsmodel module"
   ]
  },
  {
   "cell_type": "code",
   "execution_count": 15,
   "metadata": {
    "collapsed": false
   },
   "outputs": [
    {
     "data": {
      "text/html": [
       "<div>\n",
       "<table border=\"1\" class=\"dataframe\">\n",
       "  <thead>\n",
       "    <tr style=\"text-align: right;\">\n",
       "      <th></th>\n",
       "      <th>0</th>\n",
       "      <th>1</th>\n",
       "    </tr>\n",
       "  </thead>\n",
       "  <tbody>\n",
       "    <tr>\n",
       "      <th>gross_sq_feet</th>\n",
       "      <td>27.46729</td>\n",
       "      <td>132.930723</td>\n",
       "    </tr>\n",
       "  </tbody>\n",
       "</table>\n",
       "</div>"
      ],
      "text/plain": [
       "                      0           1\n",
       "gross_sq_feet  27.46729  132.930723"
      ]
     },
     "execution_count": 15,
     "metadata": {},
     "output_type": "execute_result"
    }
   ],
   "source": [
    "grossArea.conf_int().ix[[-1]] # default setting alpha = 0.05, e.g. 95% CI"
   ]
  },
  {
   "cell_type": "code",
   "execution_count": 16,
   "metadata": {
    "collapsed": false
   },
   "outputs": [
    {
     "data": {
      "text/html": [
       "<div>\n",
       "<table border=\"1\" class=\"dataframe\">\n",
       "  <thead>\n",
       "    <tr style=\"text-align: right;\">\n",
       "      <th></th>\n",
       "      <th>0</th>\n",
       "      <th>1</th>\n",
       "    </tr>\n",
       "  </thead>\n",
       "  <tbody>\n",
       "    <tr>\n",
       "      <th>gross_sq_feet</th>\n",
       "      <td>36.132197</td>\n",
       "      <td>124.265816</td>\n",
       "    </tr>\n",
       "  </tbody>\n",
       "</table>\n",
       "</div>"
      ],
      "text/plain": [
       "                       0           1\n",
       "gross_sq_feet  36.132197  124.265816"
      ]
     },
     "execution_count": 16,
     "metadata": {},
     "output_type": "execute_result"
    }
   ],
   "source": [
    "grossArea.conf_int(alpha = 0.1).ix[[-1]] # Note this always returns two-sided CI"
   ]
  },
  {
   "cell_type": "code",
   "execution_count": 39,
   "metadata": {
    "collapsed": false
   },
   "outputs": [],
   "source": [
    "# Q1. Regress the \"sale_price\" over the following ONE BY ONE in your training set:\n",
    "    # \"land_sq_feet\"\n",
    "    # \"residential_units\"\n",
    "    # \"year_gap\"\n",
    "    \n",
    "landArea = Regress('land_sq_feet')"
   ]
  },
  {
   "cell_type": "code",
   "execution_count": 40,
   "metadata": {
    "collapsed": false
   },
   "outputs": [],
   "source": [
    "resUnit = Regress('residential_units')"
   ]
  },
  {
   "cell_type": "code",
   "execution_count": 41,
   "metadata": {
    "collapsed": false
   },
   "outputs": [],
   "source": [
    "yearGap = Regress('year_gap')"
   ]
  },
  {
   "cell_type": "code",
   "execution_count": 95,
   "metadata": {
    "collapsed": true
   },
   "outputs": [],
   "source": [
    "# Q2. Build a universal function so that for each univariate regression model, you can:\n",
    "    # Observe your coefficients and p-values (obtained through training set)\n",
    "    # Calculate the corr() matrix (with respect to all 100 entries)\n",
    "    # Calculate the \"Out-of-sample\" R^2 based on your validation set\n",
    "    # Plot the prediction versus observation (with respect to validation set) \n",
    "    \n",
    "def funcOCCP(lm, key = 'sale_price'):\n",
    "    print(lm.summary().tables[1])\n",
    "    print(\"Correlation Matrix\")\n",
    "    print(\"--------------------------------------------------------------------------------\")\n",
    "    print(data.loc[:,[key]].add(data[lm.params.index[1:]], fill_value = 0).astype(int).corr())\n",
    "    lmy = lm.predict(valid)\n",
    "    y_err = lmy - valid[key]\n",
    "    y_norm = valid[key] - mean(valid[key])\n",
    "    R2 = 1 - y_err.dot(y_err) / y_norm.dot(y_norm)  # R2 w.r.t. validation set\n",
    "    print(\"================================================================================\")\n",
    "    print('Validation R^2 is %f'%R2)\n",
    "    plt.plot(lmy, lmy, 'b-')\n",
    "    plt.plot(lmy, valid.sale_price,'or')"
   ]
  },
  {
   "cell_type": "code",
   "execution_count": 94,
   "metadata": {
    "collapsed": false
   },
   "outputs": [
    {
     "data": {
      "text/html": [
       "<div>\n",
       "<table border=\"1\" class=\"dataframe\">\n",
       "  <thead>\n",
       "    <tr style=\"text-align: right;\">\n",
       "      <th></th>\n",
       "      <th>gross_sq_feet</th>\n",
       "      <th>land_sq_feet</th>\n",
       "      <th>sale_price</th>\n",
       "    </tr>\n",
       "  </thead>\n",
       "  <tbody>\n",
       "    <tr>\n",
       "      <th>0</th>\n",
       "      <td>3600</td>\n",
       "      <td>2800</td>\n",
       "      <td>833000</td>\n",
       "    </tr>\n",
       "    <tr>\n",
       "      <th>1</th>\n",
       "      <td>2492</td>\n",
       "      <td>4000</td>\n",
       "      <td>790000</td>\n",
       "    </tr>\n",
       "    <tr>\n",
       "      <th>2</th>\n",
       "      <td>4086</td>\n",
       "      <td>3000</td>\n",
       "      <td>272766</td>\n",
       "    </tr>\n",
       "    <tr>\n",
       "      <th>3</th>\n",
       "      <td>3520</td>\n",
       "      <td>2700</td>\n",
       "      <td>650000</td>\n",
       "    </tr>\n",
       "    <tr>\n",
       "      <th>4</th>\n",
       "      <td>1428</td>\n",
       "      <td>2000</td>\n",
       "      <td>400000</td>\n",
       "    </tr>\n",
       "    <tr>\n",
       "      <th>5</th>\n",
       "      <td>3240</td>\n",
       "      <td>2850</td>\n",
       "      <td>755000</td>\n",
       "    </tr>\n",
       "    <tr>\n",
       "      <th>6</th>\n",
       "      <td>4280</td>\n",
       "      <td>2000</td>\n",
       "      <td>547819</td>\n",
       "    </tr>\n",
       "    <tr>\n",
       "      <th>7</th>\n",
       "      <td>1440</td>\n",
       "      <td>2000</td>\n",
       "      <td>652000</td>\n",
       "    </tr>\n",
       "    <tr>\n",
       "      <th>8</th>\n",
       "      <td>2124</td>\n",
       "      <td>1800</td>\n",
       "      <td>605000</td>\n",
       "    </tr>\n",
       "    <tr>\n",
       "      <th>9</th>\n",
       "      <td>3329</td>\n",
       "      <td>1942</td>\n",
       "      <td>860000</td>\n",
       "    </tr>\n",
       "    <tr>\n",
       "      <th>10</th>\n",
       "      <td>3382</td>\n",
       "      <td>2000</td>\n",
       "      <td>167500</td>\n",
       "    </tr>\n",
       "    <tr>\n",
       "      <th>11</th>\n",
       "      <td>1551</td>\n",
       "      <td>1833</td>\n",
       "      <td>565000</td>\n",
       "    </tr>\n",
       "    <tr>\n",
       "      <th>12</th>\n",
       "      <td>1958</td>\n",
       "      <td>2003</td>\n",
       "      <td>740000</td>\n",
       "    </tr>\n",
       "    <tr>\n",
       "      <th>13</th>\n",
       "      <td>1388</td>\n",
       "      <td>2800</td>\n",
       "      <td>515000</td>\n",
       "    </tr>\n",
       "    <tr>\n",
       "      <th>14</th>\n",
       "      <td>3600</td>\n",
       "      <td>2003</td>\n",
       "      <td>905000</td>\n",
       "    </tr>\n",
       "    <tr>\n",
       "      <th>15</th>\n",
       "      <td>1732</td>\n",
       "      <td>1476</td>\n",
       "      <td>600000</td>\n",
       "    </tr>\n",
       "    <tr>\n",
       "      <th>16</th>\n",
       "      <td>2752</td>\n",
       "      <td>2492</td>\n",
       "      <td>850000</td>\n",
       "    </tr>\n",
       "    <tr>\n",
       "      <th>17</th>\n",
       "      <td>1880</td>\n",
       "      <td>2000</td>\n",
       "      <td>495000</td>\n",
       "    </tr>\n",
       "    <tr>\n",
       "      <th>18</th>\n",
       "      <td>1760</td>\n",
       "      <td>1958</td>\n",
       "      <td>104000</td>\n",
       "    </tr>\n",
       "    <tr>\n",
       "      <th>19</th>\n",
       "      <td>3480</td>\n",
       "      <td>2600</td>\n",
       "      <td>953000</td>\n",
       "    </tr>\n",
       "    <tr>\n",
       "      <th>20</th>\n",
       "      <td>3400</td>\n",
       "      <td>2000</td>\n",
       "      <td>790000</td>\n",
       "    </tr>\n",
       "    <tr>\n",
       "      <th>21</th>\n",
       "      <td>1288</td>\n",
       "      <td>2000</td>\n",
       "      <td>492500</td>\n",
       "    </tr>\n",
       "    <tr>\n",
       "      <th>22</th>\n",
       "      <td>1404</td>\n",
       "      <td>2003</td>\n",
       "      <td>470000</td>\n",
       "    </tr>\n",
       "    <tr>\n",
       "      <th>23</th>\n",
       "      <td>1120</td>\n",
       "      <td>1900</td>\n",
       "      <td>460000</td>\n",
       "    </tr>\n",
       "    <tr>\n",
       "      <th>24</th>\n",
       "      <td>1782</td>\n",
       "      <td>1800</td>\n",
       "      <td>655000</td>\n",
       "    </tr>\n",
       "    <tr>\n",
       "      <th>25</th>\n",
       "      <td>2600</td>\n",
       "      <td>2300</td>\n",
       "      <td>580000</td>\n",
       "    </tr>\n",
       "    <tr>\n",
       "      <th>26</th>\n",
       "      <td>3600</td>\n",
       "      <td>4000</td>\n",
       "      <td>650000</td>\n",
       "    </tr>\n",
       "    <tr>\n",
       "      <th>27</th>\n",
       "      <td>3026</td>\n",
       "      <td>2500</td>\n",
       "      <td>800000</td>\n",
       "    </tr>\n",
       "    <tr>\n",
       "      <th>28</th>\n",
       "      <td>2440</td>\n",
       "      <td>2500</td>\n",
       "      <td>775000</td>\n",
       "    </tr>\n",
       "    <tr>\n",
       "      <th>29</th>\n",
       "      <td>3714</td>\n",
       "      <td>2042</td>\n",
       "      <td>490000</td>\n",
       "    </tr>\n",
       "    <tr>\n",
       "      <th>...</th>\n",
       "      <td>...</td>\n",
       "      <td>...</td>\n",
       "      <td>...</td>\n",
       "    </tr>\n",
       "    <tr>\n",
       "      <th>70</th>\n",
       "      <td>2640</td>\n",
       "      <td>2500</td>\n",
       "      <td>580000</td>\n",
       "    </tr>\n",
       "    <tr>\n",
       "      <th>71</th>\n",
       "      <td>2640</td>\n",
       "      <td>2500</td>\n",
       "      <td>725000</td>\n",
       "    </tr>\n",
       "    <tr>\n",
       "      <th>72</th>\n",
       "      <td>1140</td>\n",
       "      <td>1652</td>\n",
       "      <td>430000</td>\n",
       "    </tr>\n",
       "    <tr>\n",
       "      <th>73</th>\n",
       "      <td>1784</td>\n",
       "      <td>3500</td>\n",
       "      <td>737000</td>\n",
       "    </tr>\n",
       "    <tr>\n",
       "      <th>74</th>\n",
       "      <td>1020</td>\n",
       "      <td>1750</td>\n",
       "      <td>420000</td>\n",
       "    </tr>\n",
       "    <tr>\n",
       "      <th>75</th>\n",
       "      <td>1378</td>\n",
       "      <td>3150</td>\n",
       "      <td>615000</td>\n",
       "    </tr>\n",
       "    <tr>\n",
       "      <th>76</th>\n",
       "      <td>1120</td>\n",
       "      <td>2100</td>\n",
       "      <td>510000</td>\n",
       "    </tr>\n",
       "    <tr>\n",
       "      <th>77</th>\n",
       "      <td>2560</td>\n",
       "      <td>3000</td>\n",
       "      <td>637500</td>\n",
       "    </tr>\n",
       "    <tr>\n",
       "      <th>78</th>\n",
       "      <td>6280</td>\n",
       "      <td>4007</td>\n",
       "      <td>835000</td>\n",
       "    </tr>\n",
       "    <tr>\n",
       "      <th>79</th>\n",
       "      <td>1344</td>\n",
       "      <td>2050</td>\n",
       "      <td>560000</td>\n",
       "    </tr>\n",
       "    <tr>\n",
       "      <th>80</th>\n",
       "      <td>2776</td>\n",
       "      <td>2805</td>\n",
       "      <td>675000</td>\n",
       "    </tr>\n",
       "    <tr>\n",
       "      <th>81</th>\n",
       "      <td>3300</td>\n",
       "      <td>2003</td>\n",
       "      <td>640500</td>\n",
       "    </tr>\n",
       "    <tr>\n",
       "      <th>82</th>\n",
       "      <td>4600</td>\n",
       "      <td>2000</td>\n",
       "      <td>727000</td>\n",
       "    </tr>\n",
       "    <tr>\n",
       "      <th>83</th>\n",
       "      <td>6300</td>\n",
       "      <td>3000</td>\n",
       "      <td>845000</td>\n",
       "    </tr>\n",
       "    <tr>\n",
       "      <th>84</th>\n",
       "      <td>1296</td>\n",
       "      <td>2000</td>\n",
       "      <td>400000</td>\n",
       "    </tr>\n",
       "    <tr>\n",
       "      <th>85</th>\n",
       "      <td>3870</td>\n",
       "      <td>2000</td>\n",
       "      <td>705500</td>\n",
       "    </tr>\n",
       "    <tr>\n",
       "      <th>86</th>\n",
       "      <td>2043</td>\n",
       "      <td>2000</td>\n",
       "      <td>470000</td>\n",
       "    </tr>\n",
       "    <tr>\n",
       "      <th>87</th>\n",
       "      <td>5305</td>\n",
       "      <td>3000</td>\n",
       "      <td>750000</td>\n",
       "    </tr>\n",
       "    <tr>\n",
       "      <th>88</th>\n",
       "      <td>1508</td>\n",
       "      <td>3000</td>\n",
       "      <td>576000</td>\n",
       "    </tr>\n",
       "    <tr>\n",
       "      <th>89</th>\n",
       "      <td>1710</td>\n",
       "      <td>2000</td>\n",
       "      <td>365000</td>\n",
       "    </tr>\n",
       "    <tr>\n",
       "      <th>90</th>\n",
       "      <td>2736</td>\n",
       "      <td>2000</td>\n",
       "      <td>750000</td>\n",
       "    </tr>\n",
       "    <tr>\n",
       "      <th>91</th>\n",
       "      <td>7492</td>\n",
       "      <td>5008</td>\n",
       "      <td>950000</td>\n",
       "    </tr>\n",
       "    <tr>\n",
       "      <th>92</th>\n",
       "      <td>1884</td>\n",
       "      <td>2400</td>\n",
       "      <td>700000</td>\n",
       "    </tr>\n",
       "    <tr>\n",
       "      <th>93</th>\n",
       "      <td>2360</td>\n",
       "      <td>2525</td>\n",
       "      <td>565000</td>\n",
       "    </tr>\n",
       "    <tr>\n",
       "      <th>94</th>\n",
       "      <td>3100</td>\n",
       "      <td>2500</td>\n",
       "      <td>738000</td>\n",
       "    </tr>\n",
       "    <tr>\n",
       "      <th>95</th>\n",
       "      <td>4818</td>\n",
       "      <td>2200</td>\n",
       "      <td>827000</td>\n",
       "    </tr>\n",
       "    <tr>\n",
       "      <th>96</th>\n",
       "      <td>2070</td>\n",
       "      <td>2000</td>\n",
       "      <td>300000</td>\n",
       "    </tr>\n",
       "    <tr>\n",
       "      <th>97</th>\n",
       "      <td>1376</td>\n",
       "      <td>1983</td>\n",
       "      <td>610000</td>\n",
       "    </tr>\n",
       "    <tr>\n",
       "      <th>98</th>\n",
       "      <td>4797</td>\n",
       "      <td>2650</td>\n",
       "      <td>800000</td>\n",
       "    </tr>\n",
       "    <tr>\n",
       "      <th>99</th>\n",
       "      <td>2950</td>\n",
       "      <td>2000</td>\n",
       "      <td>670000</td>\n",
       "    </tr>\n",
       "  </tbody>\n",
       "</table>\n",
       "<p>100 rows × 3 columns</p>\n",
       "</div>"
      ],
      "text/plain": [
       "    gross_sq_feet  land_sq_feet  sale_price\n",
       "0            3600          2800      833000\n",
       "1            2492          4000      790000\n",
       "2            4086          3000      272766\n",
       "3            3520          2700      650000\n",
       "4            1428          2000      400000\n",
       "5            3240          2850      755000\n",
       "6            4280          2000      547819\n",
       "7            1440          2000      652000\n",
       "8            2124          1800      605000\n",
       "9            3329          1942      860000\n",
       "10           3382          2000      167500\n",
       "11           1551          1833      565000\n",
       "12           1958          2003      740000\n",
       "13           1388          2800      515000\n",
       "14           3600          2003      905000\n",
       "15           1732          1476      600000\n",
       "16           2752          2492      850000\n",
       "17           1880          2000      495000\n",
       "18           1760          1958      104000\n",
       "19           3480          2600      953000\n",
       "20           3400          2000      790000\n",
       "21           1288          2000      492500\n",
       "22           1404          2003      470000\n",
       "23           1120          1900      460000\n",
       "24           1782          1800      655000\n",
       "25           2600          2300      580000\n",
       "26           3600          4000      650000\n",
       "27           3026          2500      800000\n",
       "28           2440          2500      775000\n",
       "29           3714          2042      490000\n",
       "..            ...           ...         ...\n",
       "70           2640          2500      580000\n",
       "71           2640          2500      725000\n",
       "72           1140          1652      430000\n",
       "73           1784          3500      737000\n",
       "74           1020          1750      420000\n",
       "75           1378          3150      615000\n",
       "76           1120          2100      510000\n",
       "77           2560          3000      637500\n",
       "78           6280          4007      835000\n",
       "79           1344          2050      560000\n",
       "80           2776          2805      675000\n",
       "81           3300          2003      640500\n",
       "82           4600          2000      727000\n",
       "83           6300          3000      845000\n",
       "84           1296          2000      400000\n",
       "85           3870          2000      705500\n",
       "86           2043          2000      470000\n",
       "87           5305          3000      750000\n",
       "88           1508          3000      576000\n",
       "89           1710          2000      365000\n",
       "90           2736          2000      750000\n",
       "91           7492          5008      950000\n",
       "92           1884          2400      700000\n",
       "93           2360          2525      565000\n",
       "94           3100          2500      738000\n",
       "95           4818          2200      827000\n",
       "96           2070          2000      300000\n",
       "97           1376          1983      610000\n",
       "98           4797          2650      800000\n",
       "99           2950          2000      670000\n",
       "\n",
       "[100 rows x 3 columns]"
      ]
     },
     "execution_count": 94,
     "metadata": {},
     "output_type": "execute_result"
    }
   ],
   "source": [
    "data.loc[:,['sale_price']].add(data[Dropall.params.index[1:]], fill_value = 0).astype(int)"
   ]
  },
  {
   "cell_type": "code",
   "execution_count": 46,
   "metadata": {
    "collapsed": false
   },
   "outputs": [
    {
     "name": "stdout",
     "output_type": "stream",
     "text": [
      "================================================================================\n",
      "                   coef    std err          t      P>|t|      [95.0% Conf. Int.]\n",
      "--------------------------------------------------------------------------------\n",
      "Intercept     4.563e+05   9.17e+04      4.975      0.000      2.73e+05  6.39e+05\n",
      "land_sq_feet    74.9743     37.367      2.006      0.049         0.410   149.539\n",
      "================================================================================\n",
      "Correlation Matrix\n",
      "--------------------------------------------------------------------------------\n",
      "              sale_price  land_sq_feet\n",
      "sale_price      1.000000      0.335178\n",
      "land_sq_feet    0.335178      1.000000\n",
      "================================================================================\n",
      "Validation R^2 is 0.310054\n"
     ]
    },
    {
     "data": {
      "image/png": "[encoded data removed]",
      "text/plain": [
       "<matplotlib.figure.Figure at 0x11b0df2d0>"
      ]
     },
     "metadata": {},
     "output_type": "display_data"
    }
   ],
   "source": [
    "funcOCCP( landArea )"
   ]
  },
  {
   "cell_type": "code",
   "execution_count": 19,
   "metadata": {
    "collapsed": true
   },
   "outputs": [],
   "source": [
    "# Q3. Experiment with your model, choose a feature and compute its 90% CI."
   ]
  },
  {
   "cell_type": "code",
   "execution_count": 20,
   "metadata": {
    "collapsed": true
   },
   "outputs": [],
   "source": [
    "# Q4. Next we do it reversely, suppose you are given the \"average price per square foot\" p0\n",
    "    # What is the probability that X (real avg. price per sq. foot) is higher/lower than p0?\n",
    "    # Compute the probability of X > 50 or X < 0"
   ]
  },
  {
   "cell_type": "code",
   "execution_count": null,
   "metadata": {
    "collapsed": true
   },
   "outputs": [],
   "source": [
    "# Higher than 50:\n",
    "t.sf((50 - grossArea))"
   ]
  },
  {
   "cell_type": "code",
   "execution_count": null,
   "metadata": {
    "collapsed": true
   },
   "outputs": [],
   "source": []
  },
  {
   "cell_type": "code",
   "execution_count": null,
   "metadata": {
    "collapsed": true
   },
   "outputs": [],
   "source": []
  },
  {
   "cell_type": "code",
   "execution_count": null,
   "metadata": {
    "collapsed": true
   },
   "outputs": [],
   "source": []
  },
  {
   "cell_type": "code",
   "execution_count": null,
   "metadata": {
    "collapsed": true
   },
   "outputs": [],
   "source": []
  },
  {
   "cell_type": "code",
   "execution_count": null,
   "metadata": {
    "collapsed": true
   },
   "outputs": [],
   "source": []
  },
  {
   "cell_type": "markdown",
   "metadata": {},
   "source": [
    "# Example 2.\n",
    "### Multivariate regression with housing price data"
   ]
  },
  {
   "cell_type": "code",
   "execution_count": 47,
   "metadata": {
    "collapsed": true
   },
   "outputs": [],
   "source": [
    "# Q1. Same dataset as Example 1, now regress the sale_price over the following ALTOGETHER\n",
    "    # residential_units\n",
    "    # land_sq_feet\n",
    "    # gross_sq_feet\n",
    "    # year_gap\n",
    "\n",
    "All = Regress('land_sq_feet + gross_sq_feet + residential_units + year_gap')"
   ]
  },
  {
   "cell_type": "code",
   "execution_count": 49,
   "metadata": {
    "collapsed": false
   },
   "outputs": [
    {
     "name": "stdout",
     "output_type": "stream",
     "text": [
      "Validation R^2 is 0.559356\n",
      "                            OLS Regression Results                            \n",
      "==============================================================================\n",
      "Dep. Variable:             sale_price   R-squared:                       0.156\n",
      "Model:                            OLS   Adj. R-squared:                  0.104\n",
      "Method:                 Least Squares   F-statistic:                     2.997\n",
      "Date:                Wed, 05 Oct 2016   Prob (F-statistic):             0.0247\n",
      "Time:                        12:12:44   Log-Likelihood:                -948.16\n",
      "No. Observations:                  70   AIC:                             1906.\n",
      "Df Residuals:                      65   BIC:                             1918.\n",
      "Df Model:                           4                                         \n",
      "Covariance Type:            nonrobust                                         \n",
      "=====================================================================================\n",
      "                        coef    std err          t      P>|t|      [95.0% Conf. Int.]\n",
      "-------------------------------------------------------------------------------------\n",
      "Intercept          2.175e+05   1.54e+05      1.412      0.163     -9.01e+04  5.25e+05\n",
      "land_sq_feet         54.7245     37.621      1.455      0.151       -20.409   129.858\n",
      "gross_sq_feet        83.5590     40.135      2.082      0.041         3.403   163.715\n",
      "residential_units -2860.9559   3.22e+04     -0.089      0.929     -6.71e+04  6.14e+04\n",
      "year_gap           1089.0144   1103.970      0.986      0.328     -1115.765  3293.794\n",
      "==============================================================================\n",
      "Omnibus:                        8.953   Durbin-Watson:                   2.453\n",
      "Prob(Omnibus):                  0.011   Jarque-Bera (JB):                8.482\n",
      "Skew:                          -0.780   Prob(JB):                       0.0144\n",
      "Kurtosis:                       3.690   Cond. No.                     2.42e+04\n",
      "==============================================================================\n",
      "\n",
      "Warnings:\n",
      "[1] Standard Errors assume that the covariance matrix of the errors is correctly specified.\n",
      "[2] The condition number is large, 2.42e+04. This might indicate that there are\n",
      "strong multicollinearity or other numerical problems.\n"
     ]
    },
    {
     "data": {
      "image/png": "[encoded data removed]",
      "text/plain": [
       "<matplotlib.figure.Figure at 0x11748de10>"
      ]
     },
     "metadata": {},
     "output_type": "display_data"
    }
   ],
   "source": [
    "# Q2. How does our model look like?\n",
    "    # Observe how p-values and confidence intervals changed compared to Example 1.\n",
    "modelEval( All )"
   ]
  },
  {
   "cell_type": "code",
   "execution_count": 50,
   "metadata": {
    "collapsed": false
   },
   "outputs": [
    {
     "name": "stdout",
     "output_type": "stream",
     "text": [
      "Validation R^2 is 0.600341\n",
      "                            OLS Regression Results                            \n",
      "==============================================================================\n",
      "Dep. Variable:             sale_price   R-squared:                       0.143\n",
      "Model:                            OLS   Adj. R-squared:                  0.104\n",
      "Method:                 Least Squares   F-statistic:                     3.673\n",
      "Date:                Wed, 05 Oct 2016   Prob (F-statistic):             0.0164\n",
      "Time:                        12:15:27   Log-Likelihood:                -948.68\n",
      "No. Observations:                  70   AIC:                             1905.\n",
      "Df Residuals:                      66   BIC:                             1914.\n",
      "Df Model:                           3                                         \n",
      "Covariance Type:            nonrobust                                         \n",
      "=====================================================================================\n",
      "                        coef    std err          t      P>|t|      [95.0% Conf. Int.]\n",
      "-------------------------------------------------------------------------------------\n",
      "Intercept          3.323e+05   1.01e+05      3.294      0.002      1.31e+05  5.34e+05\n",
      "land_sq_feet         50.4092     37.358      1.349      0.182       -24.178   124.996\n",
      "gross_sq_feet        68.4864     37.105      1.846      0.069        -5.597   142.570\n",
      "residential_units  2960.9574   3.16e+04      0.094      0.926     -6.02e+04  6.61e+04\n",
      "==============================================================================\n",
      "Omnibus:                        6.270   Durbin-Watson:                   2.514\n",
      "Prob(Omnibus):                  0.043   Jarque-Bera (JB):                5.531\n",
      "Skew:                          -0.658   Prob(JB):                       0.0629\n",
      "Kurtosis:                       3.404   Cond. No.                     1.58e+04\n",
      "==============================================================================\n",
      "\n",
      "Warnings:\n",
      "[1] Standard Errors assume that the covariance matrix of the errors is correctly specified.\n",
      "[2] The condition number is large, 1.58e+04. This might indicate that there are\n",
      "strong multicollinearity or other numerical problems.\n"
     ]
    },
    {
     "data": {
      "image/png": "[encoded data removed]",
      "text/plain": [
       "<matplotlib.figure.Figure at 0x11bb634d0>"
      ]
     },
     "metadata": {},
     "output_type": "display_data"
    }
   ],
   "source": [
    "# Q3. Simply remove the features with high p-value then re-run the regression, what happens?\n",
    "    # Observe how p-values and confidence intervals changed compared to Q2.\n",
    "    \n",
    "Drop = Regress('land_sq_feet + gross_sq_feet + residential_units')\n",
    "modelEval( Drop )"
   ]
  },
  {
   "cell_type": "code",
   "execution_count": 52,
   "metadata": {
    "collapsed": false
   },
   "outputs": [
    {
     "name": "stdout",
     "output_type": "stream",
     "text": [
      "Validation R^2 is 0.593962\n",
      "                            OLS Regression Results                            \n",
      "==============================================================================\n",
      "Dep. Variable:             sale_price   R-squared:                       0.143\n",
      "Model:                            OLS   Adj. R-squared:                  0.117\n",
      "Method:                 Least Squares   F-statistic:                     5.588\n",
      "Date:                Wed, 05 Oct 2016   Prob (F-statistic):            0.00569\n",
      "Time:                        12:16:51   Log-Likelihood:                -948.68\n",
      "No. Observations:                  70   AIC:                             1903.\n",
      "Df Residuals:                      67   BIC:                             1910.\n",
      "Df Model:                           2                                         \n",
      "Covariance Type:            nonrobust                                         \n",
      "=================================================================================\n",
      "                    coef    std err          t      P>|t|      [95.0% Conf. Int.]\n",
      "---------------------------------------------------------------------------------\n",
      "Intercept       3.33e+05   9.99e+04      3.332      0.001      1.34e+05  5.32e+05\n",
      "land_sq_feet     50.4468     37.078      1.361      0.178       -23.562   124.455\n",
      "gross_sq_feet    70.8338     27.149      2.609      0.011        16.644   125.023\n",
      "==============================================================================\n",
      "Omnibus:                        6.364   Durbin-Watson:                   2.516\n",
      "Prob(Omnibus):                  0.042   Jarque-Bera (JB):                5.630\n",
      "Skew:                          -0.664   Prob(JB):                       0.0599\n",
      "Kurtosis:                       3.410   Cond. No.                     1.58e+04\n",
      "==============================================================================\n",
      "\n",
      "Warnings:\n",
      "[1] Standard Errors assume that the covariance matrix of the errors is correctly specified.\n",
      "[2] The condition number is large, 1.58e+04. This might indicate that there are\n",
      "strong multicollinearity or other numerical problems.\n"
     ]
    },
    {
     "data": {
      "image/png": "[encoded data removed]",
      "text/plain": [
       "<matplotlib.figure.Figure at 0x11bd30f50>"
      ]
     },
     "metadata": {},
     "output_type": "display_data"
    }
   ],
   "source": [
    "Dropall = Regress('land_sq_feet + gross_sq_feet')\n",
    "modelEval( Dropall )"
   ]
  },
  {
   "cell_type": "code",
   "execution_count": 96,
   "metadata": {
    "collapsed": false
   },
   "outputs": [
    {
     "name": "stdout",
     "output_type": "stream",
     "text": [
      "=================================================================================\n",
      "                    coef    std err          t      P>|t|      [95.0% Conf. Int.]\n",
      "---------------------------------------------------------------------------------\n",
      "Intercept       3.33e+05   9.99e+04      3.332      0.001      1.34e+05  5.32e+05\n",
      "land_sq_feet     50.4468     37.078      1.361      0.178       -23.562   124.455\n",
      "gross_sq_feet    70.8338     27.149      2.609      0.011        16.644   125.023\n",
      "=================================================================================\n",
      "Correlation Matrix\n",
      "--------------------------------------------------------------------------------\n",
      "               gross_sq_feet  land_sq_feet  sale_price\n",
      "gross_sq_feet       1.000000      0.415587    0.464211\n",
      "land_sq_feet        0.415587      1.000000    0.335178\n",
      "sale_price          0.464211      0.335178    1.000000\n",
      "================================================================================\n",
      "Validation R^2 is 0.593962\n"
     ]
    },
    {
     "data": {
      "image/png": "[encoded data removed]",
      "text/plain": [
       "<matplotlib.figure.Figure at 0x11c80a1d0>"
      ]
     },
     "metadata": {},
     "output_type": "display_data"
    }
   ],
   "source": [
    "funcOCCP( Dropall )"
   ]
  },
  {
   "cell_type": "code",
   "execution_count": 24,
   "metadata": {
    "collapsed": true
   },
   "outputs": [],
   "source": [
    "# Q4. What if we just randomly remove a feature regardless of its p-value? Experiment!\n",
    "    # -- What happened to the coefficients as well as the other statistics of EACH feature?\n",
    "    # -- Which model gives the highest validation R-squared?"
   ]
  },
  {
   "cell_type": "code",
   "execution_count": null,
   "metadata": {
    "collapsed": true
   },
   "outputs": [],
   "source": []
  },
  {
   "cell_type": "code",
   "execution_count": null,
   "metadata": {
    "collapsed": true
   },
   "outputs": [],
   "source": []
  },
  {
   "cell_type": "code",
   "execution_count": null,
   "metadata": {
    "collapsed": true
   },
   "outputs": [],
   "source": []
  },
  {
   "cell_type": "code",
   "execution_count": null,
   "metadata": {
    "collapsed": true
   },
   "outputs": [],
   "source": []
  },
  {
   "cell_type": "code",
   "execution_count": null,
   "metadata": {
    "collapsed": true
   },
   "outputs": [],
   "source": []
  },
  {
   "cell_type": "code",
   "execution_count": null,
   "metadata": {
    "collapsed": true
   },
   "outputs": [],
   "source": []
  },
  {
   "cell_type": "code",
   "execution_count": null,
   "metadata": {
    "collapsed": true
   },
   "outputs": [],
   "source": []
  },
  {
   "cell_type": "code",
   "execution_count": null,
   "metadata": {
    "collapsed": true
   },
   "outputs": [],
   "source": []
  },
  {
   "cell_type": "code",
   "execution_count": null,
   "metadata": {
    "collapsed": true
   },
   "outputs": [],
   "source": []
  },
  {
   "cell_type": "code",
   "execution_count": null,
   "metadata": {
    "collapsed": true
   },
   "outputs": [],
   "source": []
  },
  {
   "cell_type": "markdown",
   "metadata": {},
   "source": [
    "# Example 3\n",
    "### An artificial example to demonstrate Feature Selection based on maximizing validation (adjusted) $R^2$ rather than p-values"
   ]
  },
  {
   "cell_type": "markdown",
   "metadata": {},
   "source": [
    "The regular $R^2$:\n",
    "$$\n",
    "R^2=1-\\frac{RSS}{\\sum_i (y_i-\\bar{y})^2}=\\frac{\\sum_i (\\hat{y}_i-\\bar{y})^2}{\\sum_i (y_i-\\bar{y})^2},\n",
    "$$\n",
    "The adjusted $R^2$:\n",
    "$$\n",
    "adj.R^2=1-\\frac{RSS}{\\sum_i (y_i-\\bar{y})^2} \\cdot \\frac{N-1}{N-K-1} \n",
    "$$\n",
    "where $N$ is the total sample size and $K$ is the number of features/selected variables"
   ]
  },
  {
   "cell_type": "code",
   "execution_count": 25,
   "metadata": {
    "collapsed": true
   },
   "outputs": [],
   "source": [
    "n = 15\n",
    "np.random.seed(1418)\n",
    "\n",
    "col = []\n",
    "for i in range(n):\n",
    "    col.append('x%d'%(i+1))\n",
    "\n",
    "X = pd.DataFrame(np.random.randn(50*n).reshape(50,n))\n",
    "Y = X.ix[:,:3].sum(axis = 1) + np.random.randn(50)\n",
    "data3 = pd.concat((Y,X), axis = 1)\n",
    "data3.columns = ['Y'] + col"
   ]
  },
  {
   "cell_type": "code",
   "execution_count": 26,
   "metadata": {
    "collapsed": false
   },
   "outputs": [],
   "source": [
    "# The regression function based on the feature selection\n",
    "def AdjR2(flag):\n",
    "    '''Evalute the model with adjusted R-squared'''\n",
    "    formstr='Y~-1'\n",
    "    for i in range(len(flag)):\n",
    "        if flag[i]==1:\n",
    "            formstr += '+x%d'%(i+1) # Construct the regression formula based on flag\n",
    "    train = data3[:20]\n",
    "    valid = data3[20:]\n",
    "    lm = smf.ols(formula = formstr, data = train).fit()\n",
    "    lmy = lm.predict(valid)\n",
    "    y_err = lmy-valid.Y\n",
    "    y_norm = valid.Y-mean(valid.Y)\n",
    "    # Adjusted R^2\n",
    "    R2 = 1 - y_err.dot(y_err) / y_norm.dot(y_norm) * (n-1) / (n-sum(flag)-1)\n",
    "    return R2, lm"
   ]
  },
  {
   "cell_type": "markdown",
   "metadata": {},
   "source": [
    "### Revisit the overfitting:"
   ]
  },
  {
   "cell_type": "code",
   "execution_count": 27,
   "metadata": {
    "collapsed": false
   },
   "outputs": [],
   "source": [
    "adjR2 = []\n",
    "regR2 = []\n",
    "for i in range(1, n):\n",
    "    a,b = AdjR2([1]*i + [0]*(n-i))\n",
    "    adjR2.append(a)\n",
    "    regR2.append(b.rsquared)"
   ]
  },
  {
   "cell_type": "code",
   "execution_count": 28,
   "metadata": {
    "collapsed": false
   },
   "outputs": [
    {
     "data": {
      "text/plain": [
       "[<matplotlib.lines.Line2D at 0x11c764bd0>]"
      ]
     },
     "execution_count": 28,
     "metadata": {},
     "output_type": "execute_result"
    },
    {
     "data": {
      "image/png": "[encoded data removed]",
      "text/plain": [
       "<matplotlib.figure.Figure at 0x11c70a810>"
      ]
     },
     "metadata": {},
     "output_type": "display_data"
    }
   ],
   "source": [
    "# In sample R2\n",
    "plt.plot(range(1, n), regR2, 'b-*', markersize = 10)"
   ]
  },
  {
   "cell_type": "code",
   "execution_count": 29,
   "metadata": {
    "collapsed": false
   },
   "outputs": [
    {
     "data": {
      "text/plain": [
       "[<matplotlib.lines.Line2D at 0x11d41d2d0>]"
      ]
     },
     "execution_count": 29,
     "metadata": {},
     "output_type": "execute_result"
    },
    {
     "data": {
      "image/png": "[encoded data removed]",
      "text/plain": [
       "<matplotlib.figure.Figure at 0x11c764110>"
      ]
     },
     "metadata": {},
     "output_type": "display_data"
    }
   ],
   "source": [
    "# Out of sample R2 (adjusted)\n",
    "plt.plot(range(1, n), adjR2, 'r-*', markersize = 10)"
   ]
  },
  {
   "cell_type": "code",
   "execution_count": 30,
   "metadata": {
    "collapsed": true
   },
   "outputs": [],
   "source": [
    "# Feature selection based on the p-values\n",
    "def DropP(threshold = 1):\n",
    "    '''Drop all features with p-values higher than the threshold'''\n",
    "    flag_p = (AdjR2([1]*n)[1]).pvalues < threshold\n",
    "    print('Validation R^2 is %f'%AdjR2(flag_p)[0])\n",
    "    print(AdjR2(flag_p)[1].summary())"
   ]
  },
  {
   "cell_type": "markdown",
   "metadata": {},
   "source": [
    "### First of all, let's try to include all features and observe their p-values\n",
    "Note that if we include them all, we have a nagative one (N-N-1) in the denominator (since K = N), \n",
    "$$\n",
    "adj.R^2=1-\\frac{RSS}{\\sum_i (y_i-\\bar{y})^2} \\cdot \\frac{N-1}{N-K-1} \n",
    "$$\n",
    "which simply flips the sign of the second term of the right hand side, making the adjusted $R^2$ ridiculously high"
   ]
  },
  {
   "cell_type": "code",
   "execution_count": 31,
   "metadata": {
    "collapsed": false
   },
   "outputs": [
    {
     "name": "stdout",
     "output_type": "stream",
     "text": [
      "Validation R^2 is 13.610534\n",
      "                            OLS Regression Results                            \n",
      "==============================================================================\n",
      "Dep. Variable:                      Y   R-squared:                       0.936\n",
      "Model:                            OLS   Adj. R-squared:                  0.745\n",
      "Method:                 Least Squares   F-statistic:                     4.896\n",
      "Date:                Tue, 04 Oct 2016   Prob (F-statistic):             0.0444\n",
      "Time:                        20:36:05   Log-Likelihood:                -13.143\n",
      "No. Observations:                  20   AIC:                             56.29\n",
      "Df Residuals:                       5   BIC:                             71.22\n",
      "Df Model:                          15                                         \n",
      "Covariance Type:            nonrobust                                         \n",
      "==============================================================================\n",
      "                 coef    std err          t      P>|t|      [95.0% Conf. Int.]\n",
      "------------------------------------------------------------------------------\n",
      "x1             0.8509      0.384      2.217      0.077        -0.136     1.838\n",
      "x2             0.2170      0.334      0.649      0.545        -0.642     1.076\n",
      "x3             0.8457      0.326      2.591      0.049         0.007     1.685\n",
      "x4             1.3163      0.297      4.427      0.007         0.552     2.081\n",
      "x5             0.1188      0.429      0.277      0.793        -0.983     1.220\n",
      "x6             0.3554      0.406      0.876      0.421        -0.688     1.399\n",
      "x7             0.3099      0.401      0.773      0.474        -0.720     1.340\n",
      "x8             0.3990      0.754      0.529      0.619        -1.539     2.337\n",
      "x9            -0.7875      0.437     -1.801      0.132        -1.912     0.337\n",
      "x10            0.6876      0.477      1.441      0.209        -0.539     1.914\n",
      "x11            0.6674      0.596      1.121      0.313        -0.863     2.198\n",
      "x12           -0.2977      0.392     -0.759      0.482        -1.306     0.711\n",
      "x13           -0.0759      0.327     -0.232      0.825        -0.915     0.764\n",
      "x14           -0.0256      0.313     -0.082      0.938        -0.829     0.778\n",
      "x15           -1.0629      0.632     -1.683      0.153        -2.687     0.561\n",
      "==============================================================================\n",
      "Omnibus:                        0.864   Durbin-Watson:                   2.907\n",
      "Prob(Omnibus):                  0.649   Jarque-Bera (JB):                0.485\n",
      "Skew:                          -0.374   Prob(JB):                        0.785\n",
      "Kurtosis:                       2.850   Cond. No.                         10.5\n",
      "==============================================================================\n",
      "\n",
      "Warnings:\n",
      "[1] Standard Errors assume that the covariance matrix of the errors is correctly specified.\n"
     ]
    }
   ],
   "source": [
    "DropP(1)"
   ]
  },
  {
   "cell_type": "markdown",
   "metadata": {},
   "source": [
    "### If we remove variables based on their p-value (if > 0.2), then we'll keep $x_1,x_3,x_4, x_9, x_{15}$, and the model's out of sample $R^2$ is 0.097692"
   ]
  },
  {
   "cell_type": "code",
   "execution_count": 32,
   "metadata": {
    "collapsed": false
   },
   "outputs": [
    {
     "name": "stdout",
     "output_type": "stream",
     "text": [
      "Validation R^2 is 0.097692\n",
      "                            OLS Regression Results                            \n",
      "==============================================================================\n",
      "Dep. Variable:                      Y   R-squared:                       0.817\n",
      "Model:                            OLS   Adj. R-squared:                  0.755\n",
      "Method:                 Least Squares   F-statistic:                     13.36\n",
      "Date:                Tue, 04 Oct 2016   Prob (F-statistic):           4.47e-05\n",
      "Time:                        20:36:05   Log-Likelihood:                -23.712\n",
      "No. Observations:                  20   AIC:                             57.42\n",
      "Df Residuals:                      15   BIC:                             62.40\n",
      "Df Model:                           5                                         \n",
      "Covariance Type:            nonrobust                                         \n",
      "==============================================================================\n",
      "                 coef    std err          t      P>|t|      [95.0% Conf. Int.]\n",
      "------------------------------------------------------------------------------\n",
      "x1             0.8348      0.263      3.174      0.006         0.274     1.395\n",
      "x3             0.9404      0.198      4.752      0.000         0.519     1.362\n",
      "x4             1.2494      0.215      5.819      0.000         0.792     1.707\n",
      "x9            -0.5130      0.269     -1.904      0.076        -1.087     0.061\n",
      "x15           -0.6644      0.243     -2.733      0.015        -1.183    -0.146\n",
      "==============================================================================\n",
      "Omnibus:                        0.827   Durbin-Watson:                   2.164\n",
      "Prob(Omnibus):                  0.661   Jarque-Bera (JB):                0.277\n",
      "Skew:                          -0.288   Prob(JB):                        0.870\n",
      "Kurtosis:                       3.031   Cond. No.                         1.72\n",
      "==============================================================================\n",
      "\n",
      "Warnings:\n",
      "[1] Standard Errors assume that the covariance matrix of the errors is correctly specified.\n"
     ]
    }
   ],
   "source": [
    "DropP(0.2)"
   ]
  },
  {
   "cell_type": "markdown",
   "metadata": {},
   "source": [
    "### Next we try to select feature in a fashion that maximizing validation adjusted $R^2$"
   ]
  },
  {
   "cell_type": "code",
   "execution_count": 33,
   "metadata": {
    "collapsed": false
   },
   "outputs": [
    {
     "data": {
      "text/html": [
       "\n",
       "        <style  type=\"text/css\" >\n",
       "        \n",
       "        \n",
       "            #T_b41484c0_8a93_11e6_819f_c82a142856adrow0_col0 {\n",
       "            \n",
       "                background-color:  forestgreen;\n",
       "            \n",
       "            }\n",
       "        \n",
       "            #T_b41484c0_8a93_11e6_819f_c82a142856adrow0_col1 {\n",
       "            \n",
       "                width:  10em;\n",
       "            \n",
       "                 height:  80%;\n",
       "            \n",
       "                background:  linear-gradient(90deg,forestgreen 7.5819140983%, transparent 0%);\n",
       "            \n",
       "            }\n",
       "        \n",
       "            #T_b41484c0_8a93_11e6_819f_c82a142856adrow1_col0 {\n",
       "            \n",
       "                background-color:  forestgreen;\n",
       "            \n",
       "            }\n",
       "        \n",
       "            #T_b41484c0_8a93_11e6_819f_c82a142856adrow1_col1 {\n",
       "            \n",
       "                width:  10em;\n",
       "            \n",
       "                 height:  80%;\n",
       "            \n",
       "                background:  linear-gradient(90deg,forestgreen 57.7980234905%, transparent 0%);\n",
       "            \n",
       "            }\n",
       "        \n",
       "            #T_b41484c0_8a93_11e6_819f_c82a142856adrow2_col0 {\n",
       "            \n",
       "                background-color:  forestgreen;\n",
       "            \n",
       "            }\n",
       "        \n",
       "            #T_b41484c0_8a93_11e6_819f_c82a142856adrow2_col1 {\n",
       "            \n",
       "                width:  10em;\n",
       "            \n",
       "                 height:  80%;\n",
       "            \n",
       "                background:  linear-gradient(90deg,forestgreen 4.50594631489%, transparent 0%);\n",
       "            \n",
       "            }\n",
       "        \n",
       "            #T_b41484c0_8a93_11e6_819f_c82a142856adrow3_col0 {\n",
       "            \n",
       "                background-color:  white;\n",
       "            \n",
       "            }\n",
       "        \n",
       "            #T_b41484c0_8a93_11e6_819f_c82a142856adrow3_col1 {\n",
       "            \n",
       "                width:  10em;\n",
       "            \n",
       "                 height:  80%;\n",
       "            \n",
       "            }\n",
       "        \n",
       "            #T_b41484c0_8a93_11e6_819f_c82a142856adrow4_col0 {\n",
       "            \n",
       "                background-color:  white;\n",
       "            \n",
       "            }\n",
       "        \n",
       "            #T_b41484c0_8a93_11e6_819f_c82a142856adrow4_col1 {\n",
       "            \n",
       "                width:  10em;\n",
       "            \n",
       "                 height:  80%;\n",
       "            \n",
       "                background:  linear-gradient(90deg,forestgreen 84.4021067059%, transparent 0%);\n",
       "            \n",
       "            }\n",
       "        \n",
       "            #T_b41484c0_8a93_11e6_819f_c82a142856adrow5_col0 {\n",
       "            \n",
       "                background-color:  white;\n",
       "            \n",
       "            }\n",
       "        \n",
       "            #T_b41484c0_8a93_11e6_819f_c82a142856adrow5_col1 {\n",
       "            \n",
       "                width:  10em;\n",
       "            \n",
       "                 height:  80%;\n",
       "            \n",
       "                background:  linear-gradient(90deg,forestgreen 44.5113925762%, transparent 0%);\n",
       "            \n",
       "            }\n",
       "        \n",
       "            #T_b41484c0_8a93_11e6_819f_c82a142856adrow6_col0 {\n",
       "            \n",
       "                background-color:  white;\n",
       "            \n",
       "            }\n",
       "        \n",
       "            #T_b41484c0_8a93_11e6_819f_c82a142856adrow6_col1 {\n",
       "            \n",
       "                width:  10em;\n",
       "            \n",
       "                 height:  80%;\n",
       "            \n",
       "                background:  linear-gradient(90deg,forestgreen 50.1927274024%, transparent 0%);\n",
       "            \n",
       "            }\n",
       "        \n",
       "            #T_b41484c0_8a93_11e6_819f_c82a142856adrow7_col0 {\n",
       "            \n",
       "                background-color:  white;\n",
       "            \n",
       "            }\n",
       "        \n",
       "            #T_b41484c0_8a93_11e6_819f_c82a142856adrow7_col1 {\n",
       "            \n",
       "                width:  10em;\n",
       "            \n",
       "                 height:  80%;\n",
       "            \n",
       "                background:  linear-gradient(90deg,forestgreen 65.7798527278%, transparent 0%);\n",
       "            \n",
       "            }\n",
       "        \n",
       "            #T_b41484c0_8a93_11e6_819f_c82a142856adrow8_col0 {\n",
       "            \n",
       "                background-color:  white;\n",
       "            \n",
       "            }\n",
       "        \n",
       "            #T_b41484c0_8a93_11e6_819f_c82a142856adrow8_col1 {\n",
       "            \n",
       "                width:  10em;\n",
       "            \n",
       "                 height:  80%;\n",
       "            \n",
       "                background:  linear-gradient(90deg,forestgreen 13.3972167372%, transparent 0%);\n",
       "            \n",
       "            }\n",
       "        \n",
       "            #T_b41484c0_8a93_11e6_819f_c82a142856adrow9_col0 {\n",
       "            \n",
       "                background-color:  white;\n",
       "            \n",
       "            }\n",
       "        \n",
       "            #T_b41484c0_8a93_11e6_819f_c82a142856adrow9_col1 {\n",
       "            \n",
       "                width:  10em;\n",
       "            \n",
       "                 height:  80%;\n",
       "            \n",
       "                background:  linear-gradient(90deg,forestgreen 21.7305219848%, transparent 0%);\n",
       "            \n",
       "            }\n",
       "        \n",
       "            #T_b41484c0_8a93_11e6_819f_c82a142856adrow10_col0 {\n",
       "            \n",
       "                background-color:  white;\n",
       "            \n",
       "            }\n",
       "        \n",
       "            #T_b41484c0_8a93_11e6_819f_c82a142856adrow10_col1 {\n",
       "            \n",
       "                width:  10em;\n",
       "            \n",
       "                 height:  80%;\n",
       "            \n",
       "                background:  linear-gradient(90deg,forestgreen 32.9167002742%, transparent 0%);\n",
       "            \n",
       "            }\n",
       "        \n",
       "            #T_b41484c0_8a93_11e6_819f_c82a142856adrow11_col0 {\n",
       "            \n",
       "                background-color:  white;\n",
       "            \n",
       "            }\n",
       "        \n",
       "            #T_b41484c0_8a93_11e6_819f_c82a142856adrow11_col1 {\n",
       "            \n",
       "                width:  10em;\n",
       "            \n",
       "                 height:  80%;\n",
       "            \n",
       "                background:  linear-gradient(90deg,forestgreen 51.0474598579%, transparent 0%);\n",
       "            \n",
       "            }\n",
       "        \n",
       "            #T_b41484c0_8a93_11e6_819f_c82a142856adrow12_col0 {\n",
       "            \n",
       "                background-color:  white;\n",
       "            \n",
       "            }\n",
       "        \n",
       "            #T_b41484c0_8a93_11e6_819f_c82a142856adrow12_col1 {\n",
       "            \n",
       "                width:  10em;\n",
       "            \n",
       "                 height:  80%;\n",
       "            \n",
       "                background:  linear-gradient(90deg,forestgreen 87.9123704641%, transparent 0%);\n",
       "            \n",
       "            }\n",
       "        \n",
       "            #T_b41484c0_8a93_11e6_819f_c82a142856adrow13_col0 {\n",
       "            \n",
       "                background-color:  white;\n",
       "            \n",
       "            }\n",
       "        \n",
       "            #T_b41484c0_8a93_11e6_819f_c82a142856adrow13_col1 {\n",
       "            \n",
       "                width:  10em;\n",
       "            \n",
       "                 height:  80%;\n",
       "            \n",
       "                background:  linear-gradient(90deg,forestgreen 100.0%, transparent 0%);\n",
       "            \n",
       "            }\n",
       "        \n",
       "            #T_b41484c0_8a93_11e6_819f_c82a142856adrow14_col0 {\n",
       "            \n",
       "                background-color:  white;\n",
       "            \n",
       "            }\n",
       "        \n",
       "            #T_b41484c0_8a93_11e6_819f_c82a142856adrow14_col1 {\n",
       "            \n",
       "                width:  10em;\n",
       "            \n",
       "                 height:  80%;\n",
       "            \n",
       "                background:  linear-gradient(90deg,forestgreen 15.7225712854%, transparent 0%);\n",
       "            \n",
       "            }\n",
       "        \n",
       "        </style>\n",
       "\n",
       "        <table id=\"T_b41484c0_8a93_11e6_819f_c82a142856ad\" None>\n",
       "        \n",
       "\n",
       "        <thead>\n",
       "            \n",
       "            <tr>\n",
       "                \n",
       "                <th class=\"blank\">\n",
       "                \n",
       "                <th class=\"col_heading level0 col0\">Keeper\n",
       "                \n",
       "                <th class=\"col_heading level0 col1\">Pvalues\n",
       "                \n",
       "            </tr>\n",
       "            \n",
       "        </thead>\n",
       "        <tbody>\n",
       "            \n",
       "            <tr>\n",
       "                \n",
       "                <th id=\"T_b41484c0_8a93_11e6_819f_c82a142856ad\" class=\"row_heading level1 row0\">\n",
       "                    x1\n",
       "                \n",
       "                <td id=\"T_b41484c0_8a93_11e6_819f_c82a142856adrow0_col0\" class=\"data row0 col0\">\n",
       "                    x1\n",
       "                \n",
       "                <td id=\"T_b41484c0_8a93_11e6_819f_c82a142856adrow0_col1\" class=\"data row0 col1\">\n",
       "                    0.0774438\n",
       "                \n",
       "            </tr>\n",
       "            \n",
       "            <tr>\n",
       "                \n",
       "                <th id=\"T_b41484c0_8a93_11e6_819f_c82a142856ad\" class=\"row_heading level1 row1\">\n",
       "                    x2\n",
       "                \n",
       "                <td id=\"T_b41484c0_8a93_11e6_819f_c82a142856adrow1_col0\" class=\"data row1 col0\">\n",
       "                    x2\n",
       "                \n",
       "                <td id=\"T_b41484c0_8a93_11e6_819f_c82a142856adrow1_col1\" class=\"data row1 col1\">\n",
       "                    0.545014\n",
       "                \n",
       "            </tr>\n",
       "            \n",
       "            <tr>\n",
       "                \n",
       "                <th id=\"T_b41484c0_8a93_11e6_819f_c82a142856ad\" class=\"row_heading level1 row2\">\n",
       "                    x3\n",
       "                \n",
       "                <td id=\"T_b41484c0_8a93_11e6_819f_c82a142856adrow2_col0\" class=\"data row2 col0\">\n",
       "                    x3\n",
       "                \n",
       "                <td id=\"T_b41484c0_8a93_11e6_819f_c82a142856adrow2_col1\" class=\"data row2 col1\">\n",
       "                    0.0488029\n",
       "                \n",
       "            </tr>\n",
       "            \n",
       "            <tr>\n",
       "                \n",
       "                <th id=\"T_b41484c0_8a93_11e6_819f_c82a142856ad\" class=\"row_heading level1 row3\">\n",
       "                    x4\n",
       "                \n",
       "                <td id=\"T_b41484c0_8a93_11e6_819f_c82a142856adrow3_col0\" class=\"data row3 col0\">\n",
       "                    x4\n",
       "                \n",
       "                <td id=\"T_b41484c0_8a93_11e6_819f_c82a142856adrow3_col1\" class=\"data row3 col1\">\n",
       "                    0.00684733\n",
       "                \n",
       "            </tr>\n",
       "            \n",
       "            <tr>\n",
       "                \n",
       "                <th id=\"T_b41484c0_8a93_11e6_819f_c82a142856ad\" class=\"row_heading level1 row4\">\n",
       "                    x5\n",
       "                \n",
       "                <td id=\"T_b41484c0_8a93_11e6_819f_c82a142856adrow4_col0\" class=\"data row4 col0\">\n",
       "                    x5\n",
       "                \n",
       "                <td id=\"T_b41484c0_8a93_11e6_819f_c82a142856adrow4_col1\" class=\"data row4 col1\">\n",
       "                    0.792729\n",
       "                \n",
       "            </tr>\n",
       "            \n",
       "            <tr>\n",
       "                \n",
       "                <th id=\"T_b41484c0_8a93_11e6_819f_c82a142856ad\" class=\"row_heading level1 row5\">\n",
       "                    x6\n",
       "                \n",
       "                <td id=\"T_b41484c0_8a93_11e6_819f_c82a142856adrow5_col0\" class=\"data row5 col0\">\n",
       "                    x6\n",
       "                \n",
       "                <td id=\"T_b41484c0_8a93_11e6_819f_c82a142856adrow5_col1\" class=\"data row5 col1\">\n",
       "                    0.4213\n",
       "                \n",
       "            </tr>\n",
       "            \n",
       "            <tr>\n",
       "                \n",
       "                <th id=\"T_b41484c0_8a93_11e6_819f_c82a142856ad\" class=\"row_heading level1 row6\">\n",
       "                    x7\n",
       "                \n",
       "                <td id=\"T_b41484c0_8a93_11e6_819f_c82a142856adrow6_col0\" class=\"data row6 col0\">\n",
       "                    x7\n",
       "                \n",
       "                <td id=\"T_b41484c0_8a93_11e6_819f_c82a142856adrow6_col1\" class=\"data row6 col1\">\n",
       "                    0.4742\n",
       "                \n",
       "            </tr>\n",
       "            \n",
       "            <tr>\n",
       "                \n",
       "                <th id=\"T_b41484c0_8a93_11e6_819f_c82a142856ad\" class=\"row_heading level1 row7\">\n",
       "                    x8\n",
       "                \n",
       "                <td id=\"T_b41484c0_8a93_11e6_819f_c82a142856adrow7_col0\" class=\"data row7 col0\">\n",
       "                    x8\n",
       "                \n",
       "                <td id=\"T_b41484c0_8a93_11e6_819f_c82a142856adrow7_col1\" class=\"data row7 col1\">\n",
       "                    0.619334\n",
       "                \n",
       "            </tr>\n",
       "            \n",
       "            <tr>\n",
       "                \n",
       "                <th id=\"T_b41484c0_8a93_11e6_819f_c82a142856ad\" class=\"row_heading level1 row8\">\n",
       "                    x9\n",
       "                \n",
       "                <td id=\"T_b41484c0_8a93_11e6_819f_c82a142856adrow8_col0\" class=\"data row8 col0\">\n",
       "                    x9\n",
       "                \n",
       "                <td id=\"T_b41484c0_8a93_11e6_819f_c82a142856adrow8_col1\" class=\"data row8 col1\">\n",
       "                    0.131591\n",
       "                \n",
       "            </tr>\n",
       "            \n",
       "            <tr>\n",
       "                \n",
       "                <th id=\"T_b41484c0_8a93_11e6_819f_c82a142856ad\" class=\"row_heading level1 row9\">\n",
       "                    x10\n",
       "                \n",
       "                <td id=\"T_b41484c0_8a93_11e6_819f_c82a142856adrow9_col0\" class=\"data row9 col0\">\n",
       "                    x10\n",
       "                \n",
       "                <td id=\"T_b41484c0_8a93_11e6_819f_c82a142856adrow9_col1\" class=\"data row9 col1\">\n",
       "                    0.209184\n",
       "                \n",
       "            </tr>\n",
       "            \n",
       "            <tr>\n",
       "                \n",
       "                <th id=\"T_b41484c0_8a93_11e6_819f_c82a142856ad\" class=\"row_heading level1 row10\">\n",
       "                    x11\n",
       "                \n",
       "                <td id=\"T_b41484c0_8a93_11e6_819f_c82a142856adrow10_col0\" class=\"data row10 col0\">\n",
       "                    x11\n",
       "                \n",
       "                <td id=\"T_b41484c0_8a93_11e6_819f_c82a142856adrow10_col1\" class=\"data row10 col1\">\n",
       "                    0.31334\n",
       "                \n",
       "            </tr>\n",
       "            \n",
       "            <tr>\n",
       "                \n",
       "                <th id=\"T_b41484c0_8a93_11e6_819f_c82a142856ad\" class=\"row_heading level1 row11\">\n",
       "                    x12\n",
       "                \n",
       "                <td id=\"T_b41484c0_8a93_11e6_819f_c82a142856adrow11_col0\" class=\"data row11 col0\">\n",
       "                    x12\n",
       "                \n",
       "                <td id=\"T_b41484c0_8a93_11e6_819f_c82a142856adrow11_col1\" class=\"data row11 col1\">\n",
       "                    0.482159\n",
       "                \n",
       "            </tr>\n",
       "            \n",
       "            <tr>\n",
       "                \n",
       "                <th id=\"T_b41484c0_8a93_11e6_819f_c82a142856ad\" class=\"row_heading level1 row12\">\n",
       "                    x13\n",
       "                \n",
       "                <td id=\"T_b41484c0_8a93_11e6_819f_c82a142856adrow12_col0\" class=\"data row12 col0\">\n",
       "                    x13\n",
       "                \n",
       "                <td id=\"T_b41484c0_8a93_11e6_819f_c82a142856adrow12_col1\" class=\"data row12 col1\">\n",
       "                    0.825414\n",
       "                \n",
       "            </tr>\n",
       "            \n",
       "            <tr>\n",
       "                \n",
       "                <th id=\"T_b41484c0_8a93_11e6_819f_c82a142856ad\" class=\"row_heading level1 row13\">\n",
       "                    x14\n",
       "                \n",
       "                <td id=\"T_b41484c0_8a93_11e6_819f_c82a142856adrow13_col0\" class=\"data row13 col0\">\n",
       "                    x14\n",
       "                \n",
       "                <td id=\"T_b41484c0_8a93_11e6_819f_c82a142856adrow13_col1\" class=\"data row13 col1\">\n",
       "                    0.937964\n",
       "                \n",
       "            </tr>\n",
       "            \n",
       "            <tr>\n",
       "                \n",
       "                <th id=\"T_b41484c0_8a93_11e6_819f_c82a142856ad\" class=\"row_heading level1 row14\">\n",
       "                    x15\n",
       "                \n",
       "                <td id=\"T_b41484c0_8a93_11e6_819f_c82a142856adrow14_col0\" class=\"data row14 col0\">\n",
       "                    x15\n",
       "                \n",
       "                <td id=\"T_b41484c0_8a93_11e6_819f_c82a142856adrow14_col1\" class=\"data row14 col1\">\n",
       "                    0.153243\n",
       "                \n",
       "            </tr>\n",
       "            \n",
       "        </tbody>\n",
       "        </table>\n",
       "        "
      ],
      "text/plain": [
       "<pandas.formats.style.Styler at 0x11c75e610>"
      ]
     },
     "execution_count": 33,
     "metadata": {},
     "output_type": "execute_result"
    }
   ],
   "source": [
    "# Find the best feature selection that maximizes the out-of-sample adjusted R2\n",
    "def FindBestI():\n",
    "    flag = np.zeros(n) # initially exclude all regressors: 1-include, 0-exclude\n",
    "    r2max = 0                    # for storing and compare with best R^2\n",
    "    while True:\n",
    "        # try all possible addition based on current flag\n",
    "        flag_mat = np.maximum(np.eye(n),flag)\n",
    "        # see if R^2 increases if we add one more feature\n",
    "        r2 = np.apply_along_axis(AdjR2,1,flag_mat)[:,0]  # 1: row-wise operation\n",
    "        temp = r2.max()   # select best R2\n",
    "        if temp > r2max:\n",
    "            r2max = temp\n",
    "            flag = flag_mat[r2.argmax()]  # select this feature if it improves our R2\n",
    "        else:\n",
    "            break                         # nothing to add, break the loop\n",
    "    return flag\n",
    "\n",
    "flag = FindBestI()         # store the best choice of feature selection\n",
    "(r2_best,lm_best) = AdjR2(flag)  # then run the regression based on such selection\n",
    "ix = [col[i] for i in range(n) if flag[i]==1]\n",
    "\n",
    "b = pd.DataFrame({'Pvalues':AdjR2([1]*n)[1].pvalues, 'Keeper':col})\n",
    "c = 'forestgreen'\n",
    "def highlight_pval(val):\n",
    "    color = c if val in ix else 'white'\n",
    "    return 'background-color: %s'%color\n",
    "\n",
    "b.style.applymap(highlight_pval, subset=['Keeper']).\\\n",
    "    bar(subset = ['Pvalues'], color=c)"
   ]
  },
  {
   "cell_type": "markdown",
   "metadata": {},
   "source": [
    "### The length of green bar in right column indicates the p-value, and we can see that despite having high p-value,  $x_2$ is still included in our \"best choice\", which accurately reflects our true model that $y \\sim x_1 + x_2 + x_3$"
   ]
  },
  {
   "cell_type": "code",
   "execution_count": 34,
   "metadata": {
    "collapsed": false,
    "scrolled": false
   },
   "outputs": [
    {
     "name": "stdout",
     "output_type": "stream",
     "text": [
      "Validation R^2 is 0.481907\n",
      "                            OLS Regression Results                            \n",
      "==============================================================================\n",
      "Dep. Variable:                      Y   R-squared:                       0.433\n",
      "Model:                            OLS   Adj. R-squared:                  0.333\n",
      "Method:                 Least Squares   F-statistic:                     4.324\n",
      "Date:                Tue, 04 Oct 2016   Prob (F-statistic):             0.0194\n",
      "Time:                        20:36:06   Log-Likelihood:                -35.002\n",
      "No. Observations:                  20   AIC:                             76.00\n",
      "Df Residuals:                      17   BIC:                             78.99\n",
      "Df Model:                           3                                         \n",
      "Covariance Type:            nonrobust                                         \n",
      "==============================================================================\n",
      "                 coef    std err          t      P>|t|      [95.0% Conf. Int.]\n",
      "------------------------------------------------------------------------------\n",
      "x1             0.7465      0.432      1.728      0.102        -0.165     1.658\n",
      "x2             0.9694      0.364      2.666      0.016         0.202     1.736\n",
      "x3             0.7437      0.312      2.383      0.029         0.085     1.402\n",
      "==============================================================================\n",
      "Omnibus:                        2.509   Durbin-Watson:                   1.614\n",
      "Prob(Omnibus):                  0.285   Jarque-Bera (JB):                1.210\n",
      "Skew:                          -0.181   Prob(JB):                        0.546\n",
      "Kurtosis:                       1.851   Cond. No.                         1.57\n",
      "==============================================================================\n",
      "\n",
      "Warnings:\n",
      "[1] Standard Errors assume that the covariance matrix of the errors is correctly specified.\n"
     ]
    }
   ],
   "source": [
    "print('Validation R^2 is %f'%r2_best)\n",
    "print(lm_best.summary())"
   ]
  },
  {
   "cell_type": "code",
   "execution_count": null,
   "metadata": {
    "collapsed": true
   },
   "outputs": [],
   "source": []
  },
  {
   "cell_type": "code",
   "execution_count": null,
   "metadata": {
    "collapsed": true
   },
   "outputs": [],
   "source": []
  }
 ],
 "metadata": {
  "anaconda-cloud": {},
  "kernelspec": {
   "display_name": "Python [Root]",
   "language": "python",
   "name": "Python [Root]"
  },
  "language_info": {
   "codemirror_mode": {
    "name": "ipython",
    "version": 2
   },
   "file_extension": ".py",
   "mimetype": "text/x-python",
   "name": "python",
   "nbconvert_exporter": "python",
   "pygments_lexer": "ipython2",
   "version": "2.7.12"
  }
 },
 "nbformat": 4,
 "nbformat_minor": 0
}
